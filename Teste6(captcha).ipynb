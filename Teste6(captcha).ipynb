{
  "nbformat": 4,
  "nbformat_minor": 0,
  "metadata": {
    "colab": {
      "name": "Teste6(captcha).ipynb",
      "provenance": [],
      "collapsed_sections": []
    },
    "kernelspec": {
      "name": "python3",
      "display_name": "Python 3"
    },
    "accelerator": "GPU"
  },
  "cells": [
    {
      "cell_type": "code",
      "metadata": {
        "id": "YV7lZc3s1NuF"
      },
      "source": [
        "import warnings\n",
        "warnings.filterwarnings('ignore')\n",
        "import os\n",
        "\n",
        "nomes_amostras = os.listdir('samples')"
      ],
      "execution_count": null,
      "outputs": []
    },
    {
      "cell_type": "code",
      "metadata": {
        "id": "c7L_UfSbBjh2",
        "colab": {
          "base_uri": "https://localhost:8080/"
        },
        "outputId": "574ef42f-93a0-4217-e020-12f8177e007b"
      },
      "source": [
        "nomes_amostras"
      ],
      "execution_count": null,
      "outputs": [
        {
          "output_type": "execute_result",
          "data": {
            "text/plain": [
              "['3den6.png',\n",
              " '4dgf7.png',\n",
              " '53mn8.png',\n",
              " '2en7g.png',\n",
              " 'cnex4.png',\n",
              " '77n6g.png',\n",
              " 'dce8y.png',\n",
              " 'gc83b.png',\n",
              " '8n5p3.png',\n",
              " 'x347n.png',\n",
              " 'p4nm4.png',\n",
              " '28x47.png',\n",
              " 'gxxpf.png',\n",
              " 'gy5bf.png',\n",
              " '25w53.png',\n",
              " '6f857.png',\n",
              " 'nmw46.png',\n",
              " '42dw4.png',\n",
              " 'ngn26.png',\n",
              " 'mgw3n.png',\n",
              " 'wb3ed.png',\n",
              " 'cg5dd.png',\n",
              " 'ewyg7.jpg',\n",
              " '2bg48.png',\n",
              " 'bp2d4.png',\n",
              " 'ef4mn.png',\n",
              " 'yew6p.png',\n",
              " 'b43nw.png',\n",
              " 'bmxpe.png',\n",
              " 'w4nfx.png',\n",
              " 'gwnm6.png',\n",
              " '52447.png',\n",
              " '6fg8c.png',\n",
              " '6gnm3.png',\n",
              " 'emwpn.png',\n",
              " 'n7dyb.png',\n",
              " '6f2yc.png',\n",
              " 'b3xpn.png',\n",
              " '4cfw8.png',\n",
              " 'xe6eb.png',\n",
              " 'nxn4f.png',\n",
              " 'xngxc.png',\n",
              " 'c7nn8.png',\n",
              " 'y4n6m.png',\n",
              " 'd6fcn.png',\n",
              " '5nggg.png',\n",
              " 'd8xcn.png',\n",
              " 'dyp7n.png',\n",
              " '2mpnn.png',\n",
              " 'en32e.png',\n",
              " 'yx2d4.png',\n",
              " 'b35f6.png',\n",
              " 'ycmcw.png',\n",
              " 'yge7c.jpg',\n",
              " 'pyf65.png',\n",
              " 'fw3b2.png',\n",
              " 'g7fmc.png',\n",
              " 'mdyp7.png',\n",
              " 'ymp7g.png',\n",
              " 'b5fm7.png',\n",
              " 'nb267.png',\n",
              " '728n8.png',\n",
              " 'd666m.png',\n",
              " '7mgmf.png',\n",
              " 'c8fxy.png',\n",
              " 'c482b.png',\n",
              " 'gng6e.png',\n",
              " 'm448b.png',\n",
              " 'f5cm2.png',\n",
              " '3cpwb.png',\n",
              " 'nbcgb.png',\n",
              " 'mgdwb.png',\n",
              " 'x4pnp.png',\n",
              " '5dxnm.png',\n",
              " '5n245.png',\n",
              " 'bwmee.png',\n",
              " 'wddcp.png',\n",
              " 'gcx6f.png',\n",
              " 'yd38e.png',\n",
              " 'g6n7x.png',\n",
              " 'dmxp8.png',\n",
              " 'dyxnc.png',\n",
              " 'x5nyn.png',\n",
              " 'ef4np.png',\n",
              " 'n6nn2.png',\n",
              " '85622.png',\n",
              " 'y53c2.png',\n",
              " 'mcyfx.png',\n",
              " 'dgcm4.jpg',\n",
              " '6p2ge.png',\n",
              " 'pdcp4.png',\n",
              " '24f6w.png',\n",
              " '6m5eg.png',\n",
              " 'e8e5e.png',\n",
              " 'bgd4m.png',\n",
              " 'pg2pm.png',\n",
              " '478nx.png',\n",
              " '28348.png',\n",
              " 'men4f.png',\n",
              " '3bx86.png',\n",
              " 'n3m6x.png',\n",
              " 'n6f4b.png',\n",
              " '4exnn.png',\n",
              " 'f6ne5.png',\n",
              " 'x5f54.png',\n",
              " 'bcwnn.png',\n",
              " 'f35xp.png',\n",
              " 'dxwcw.png',\n",
              " '8d8ep.png',\n",
              " '78dw6.jpg',\n",
              " 'bw5nf.png',\n",
              " '57gnx.png',\n",
              " 'd7nn3.png',\n",
              " '23n88.png',\n",
              " 'y2ye8.png',\n",
              " 'e46pd.png',\n",
              " '53wb8.png',\n",
              " 'nfg23.png',\n",
              " '3eny7.png',\n",
              " '7bb7b.png',\n",
              " '8xef7.png',\n",
              " 'y5g87.png',\n",
              " 'd7en3.png',\n",
              " '2mg87.png',\n",
              " 'xdcn4.png',\n",
              " 'g7wxw.png',\n",
              " 'fg8n4.png',\n",
              " 'bbymy.png',\n",
              " '6e6pn.png',\n",
              " 'cwgyx.png',\n",
              " 'bpwd7.png',\n",
              " '43mn5.png',\n",
              " 'n8pfe.png',\n",
              " 'f753f.png',\n",
              " '4gycb.png',\n",
              " 'my84e.png',\n",
              " 'pybee.png',\n",
              " '5bg8f.png',\n",
              " 'n4wwn.png',\n",
              " 'x6b5m.png',\n",
              " '4fc36.png',\n",
              " '47m2b.png',\n",
              " 'fc6xb.png',\n",
              " '3dgmf.png',\n",
              " '57b27.png',\n",
              " 'mc35n.png',\n",
              " 'gnbde.png',\n",
              " '5gcd3.png',\n",
              " '8d4wm.png',\n",
              " 'bx5ed.jpg',\n",
              " 'xnn4d.png',\n",
              " 'gw468.png',\n",
              " 'ccf2w.png',\n",
              " 'yyn57.png',\n",
              " 'n5w5g.png',\n",
              " '7wnpm.png',\n",
              " 'gnc3n.png',\n",
              " 'b685n.png',\n",
              " 'cndmc.jpg',\n",
              " 'ccn2x.png',\n",
              " 'nn6mg.png',\n",
              " '6wg4n.png',\n",
              " 'yf28d.png',\n",
              " 'x38fn.png',\n",
              " '65nmw.jpg',\n",
              " 'pnnwy.png',\n",
              " '43xfe.png',\n",
              " 'n4cpy.png',\n",
              " 'bgxcd.jpg',\n",
              " 'y5dpp.png',\n",
              " '8fexn.png',\n",
              " 'wbncw.png',\n",
              " '6xpme.png',\n",
              " '78eec.png',\n",
              " 'pme86.png',\n",
              " 'fwxdp.png',\n",
              " 'gegw4.png',\n",
              " 'ndyfe.png',\n",
              " '5mcy7.png',\n",
              " 'nbp3e.png',\n",
              " '7gce6.png',\n",
              " 'b55d6.png',\n",
              " '34fxm.png',\n",
              " 'wnpec.png',\n",
              " 'm74dm.png',\n",
              " '8n62n.png',\n",
              " 'fg38b.png',\n",
              " 'b84xc.png',\n",
              " 'ng756.png',\n",
              " 'b4ncn.png',\n",
              " 'nnfx3.png',\n",
              " 'y866y.png',\n",
              " 'gm7n8.png',\n",
              " '8684m.png',\n",
              " '25m6p.png',\n",
              " '8nbew.png',\n",
              " 'f6bpw.jpg',\n",
              " 'y2436.png',\n",
              " 'mmg38.png',\n",
              " 'nn6w6.jpg',\n",
              " 'n7g4f.png',\n",
              " 'n2gmg.png',\n",
              " 'nybcx.png',\n",
              " 'f4fn2.png',\n",
              " '8bbm4.png',\n",
              " '3ygde.png',\n",
              " '5expp.png',\n",
              " '2fxgd.png',\n",
              " 'gd8fb.png',\n",
              " 'w4cnn.png',\n",
              " '4fp5g.png',\n",
              " '4ycex.png',\n",
              " 'nfndw.png',\n",
              " 'c3572.png',\n",
              " 'p2m6n.png',\n",
              " 'n5wbg.png',\n",
              " 'fpw76.png',\n",
              " 'pg4bf.png',\n",
              " 'yw8y5.jpg',\n",
              " 'nfd8g.png',\n",
              " '62fgn.jpg',\n",
              " 'pgg3n.png',\n",
              " 'ypp8f.png',\n",
              " '68x48.png',\n",
              " 'nf2n8.png',\n",
              " 'mp7wp.png',\n",
              " 'x6pdb.png',\n",
              " '5mgn4.png',\n",
              " 'm457d.png',\n",
              " 'ny8np.png',\n",
              " 'g3ex3.png',\n",
              " 'ec6pm.png',\n",
              " '378e5.png',\n",
              " '2g783.png',\n",
              " '2npg6.png',\n",
              " 'wce5n.png',\n",
              " '6fn84.png',\n",
              " 'c4mcm.png',\n",
              " '74eyg.png',\n",
              " 'ddpyb.png',\n",
              " 'w75w8.png',\n",
              " '4dw3w.png',\n",
              " 'cy3nw.png',\n",
              " 'w2yp7.png',\n",
              " 'e46yw.png',\n",
              " '3nnpw.png',\n",
              " 'nm248.png',\n",
              " 'wmpmp.png',\n",
              " 'm75bf.png',\n",
              " '6xxdx.png',\n",
              " 'ep85x.png',\n",
              " '77387.png',\n",
              " 'e6b7y.png',\n",
              " 'xnd3y.png',\n",
              " '42nxy.png',\n",
              " 'ybfx6.png',\n",
              " 'ppx77.png',\n",
              " 'fp3wy.png',\n",
              " 'gecmf.png',\n",
              " '3bfnd.png',\n",
              " 'xyyyw.png',\n",
              " 'fcey3.png',\n",
              " 'dbfen.png',\n",
              " 'fy2nd.png',\n",
              " '33p4e.png',\n",
              " 'bw6n6.png',\n",
              " 'mbf58.png',\n",
              " 'pp546.png',\n",
              " 'w46ep.png',\n",
              " 'f2m8n.png',\n",
              " '36bc2.png',\n",
              " '8bbw8.png',\n",
              " '3x325.png',\n",
              " 'yd3m3.png',\n",
              " '4743p.png',\n",
              " '5p8fm.png',\n",
              " 'pym7p.png',\n",
              " 'efg72.png',\n",
              " 'ywn6f.png',\n",
              " 'e3ndn.png',\n",
              " 'f22bn.png',\n",
              " '55w5c.png',\n",
              " 'pwebm.png',\n",
              " 'g2577.png',\n",
              " '3ny45.png',\n",
              " '6bnnm.png',\n",
              " 'x458w.png',\n",
              " 'neecd.png',\n",
              " '62nb3.png',\n",
              " 'gbxyy.png',\n",
              " 'f858x.png',\n",
              " '74853.png',\n",
              " 'x44n4.png',\n",
              " '7y2x4.png',\n",
              " '8np22.png',\n",
              " '6dmx7.png',\n",
              " '8ne4g.png',\n",
              " 'yf424.png',\n",
              " 'gny6b.png',\n",
              " 'xp24p.png',\n",
              " '4f8yp.png',\n",
              " 'fxpw3.png',\n",
              " 'gm6nn.png',\n",
              " 'd378n.png',\n",
              " 'x7422.png',\n",
              " 'npxb7.png',\n",
              " 'b28g8.png',\n",
              " '574d7.png',\n",
              " 'mmc5n.png',\n",
              " '2cgyx.png',\n",
              " 'mfb3x.png',\n",
              " 'y33nm.png',\n",
              " 'mmfm6.png',\n",
              " 'enpw2.png',\n",
              " 'e2mg2.png',\n",
              " '22d5n.png',\n",
              " 'mn5c4.png',\n",
              " '6c3p5.png',\n",
              " '73mnx.png',\n",
              " 'mm3nn.png',\n",
              " 'dd5w5.png',\n",
              " 'nxc83.png',\n",
              " 'px2xp.png',\n",
              " '3bnyf.png',\n",
              " 'f8f8g.png',\n",
              " 'pyefb.png',\n",
              " 'mdxpn.png',\n",
              " 'xgcxy.png',\n",
              " 'nxcmn.png',\n",
              " '43p5d.png',\n",
              " 'b5dn4.png',\n",
              " '664nf.png',\n",
              " 'mmy5n.png',\n",
              " 'c5xne.png',\n",
              " 'x2cnn.png',\n",
              " '2wc38.png',\n",
              " 'pgm2e.png',\n",
              " '44xe8.png',\n",
              " 'n373n.png',\n",
              " '38n57.png',\n",
              " 'dc436.png',\n",
              " 'n2c85.jpg',\n",
              " 'efb3f.png',\n",
              " 'xf4p4.png',\n",
              " '474ff.png',\n",
              " '7fde7.png',\n",
              " 'pf5ng.png',\n",
              " 'eng53.png',\n",
              " 'ncww7.png',\n",
              " '4cn7b.png',\n",
              " '7bwm2.png',\n",
              " 'dn5df.png',\n",
              " '2p2y8.png',\n",
              " 'nnn5p.png',\n",
              " '8n65n.png',\n",
              " 'ny3nn.png',\n",
              " 'c4527.png',\n",
              " '2356g.png',\n",
              " 'de45x.png',\n",
              " '7m8px.png',\n",
              " '77wp4.png',\n",
              " 'bny23.png',\n",
              " 'cwdnx.png',\n",
              " 'x3deb.png',\n",
              " 'mpxfb.png',\n",
              " 'gfxcc.png',\n",
              " 'bnc5f.png',\n",
              " 'x37bf.png',\n",
              " 'ypw3d.png',\n",
              " '7pcd7.png',\n",
              " 'yyg5g.png',\n",
              " 'fywb8.png',\n",
              " 'pgmn2.png',\n",
              " 'een23.png',\n",
              " 'c353e.png',\n",
              " '5ng6e.png',\n",
              " 'x362g.png',\n",
              " 'xymfn.png',\n",
              " 'm4fd8.png',\n",
              " '5bnd7.png',\n",
              " 'xmcym.png',\n",
              " 'c6we6.png',\n",
              " '8db67.png',\n",
              " '5bgp2.png',\n",
              " 'yxd7m.png',\n",
              " '4433m.png',\n",
              " 'fyfbn.png',\n",
              " '7dyww.png',\n",
              " 'bd3b7.png',\n",
              " 'gymmn.png',\n",
              " '7w67m.png',\n",
              " '76n7p.png',\n",
              " '6825y.png',\n",
              " 'x8e8n.png',\n",
              " 'geyn5.jpg',\n",
              " 'cc845.png',\n",
              " 'pcmcc.jpg',\n",
              " '2cegf.png',\n",
              " 'mxnw4.png',\n",
              " 'x277e.png',\n",
              " '5nm6d.png',\n",
              " 'cnmnn.png',\n",
              " 'gpxng.png',\n",
              " 'exycn.png',\n",
              " '8c23f.png',\n",
              " 'nfcb5.png',\n",
              " 'f5e5e.png',\n",
              " 'pm47f.png',\n",
              " '6dd2y.png',\n",
              " 'gy8xb.png',\n",
              " 'ppwyd.png',\n",
              " '467d5.png',\n",
              " 'n5cm7.png',\n",
              " '8wy7d.png',\n",
              " 'gm2c2.png',\n",
              " 'ddxpp.jpg',\n",
              " 'bc8nf.png',\n",
              " 'wxy4n.png',\n",
              " 'nw5b2.png',\n",
              " 'f228n.png',\n",
              " 'b5nmm.png',\n",
              " 'nnp4e.png',\n",
              " '6end3.png',\n",
              " '3mxdn.png',\n",
              " 'f6ww8.png',\n",
              " 'm3b5p.png',\n",
              " '5npdn.png',\n",
              " 'gnf85.png',\n",
              " '58pnp.png',\n",
              " 'n4xx5.png',\n",
              " '4n3mn.png',\n",
              " '8y6b3.png',\n",
              " '678w3.png',\n",
              " '34pcn.png',\n",
              " 'm2576.png',\n",
              " 'gp22x.png',\n",
              " '3ndxd.png',\n",
              " 'd22n7.png',\n",
              " 'fbp2c.png',\n",
              " '72m6f.png',\n",
              " 'byfgn.png',\n",
              " 'p4pde.png',\n",
              " '44fyb.png',\n",
              " '2g7nm.png',\n",
              " 'y32yy.png',\n",
              " '3x5fm.png',\n",
              " 'gd4mf.png',\n",
              " '5np4m.png',\n",
              " 'xcf88.png',\n",
              " 'wc2bd.png',\n",
              " 'p7fyp.png',\n",
              " 'ydg8n.png',\n",
              " '8n56m.png',\n",
              " 'bp6mw.png',\n",
              " '6bdn5.png',\n",
              " '85dxn.png',\n",
              " 'e25xg.png',\n",
              " 'pxne8.png',\n",
              " 'x74b2.png',\n",
              " 'dmw8n.png',\n",
              " 'p2ym2.png',\n",
              " '68wfd.png',\n",
              " '8g4yp.png',\n",
              " '37d52.png',\n",
              " 'y7x8p.png',\n",
              " 'mwdf6.png',\n",
              " '6b46g.png',\n",
              " '8y63f.png',\n",
              " '3wnd3.png',\n",
              " 'bgb48.png',\n",
              " 'ewnx8.png',\n",
              " 'cen55.png',\n",
              " '8n4n8.png',\n",
              " 'x7547.png',\n",
              " 'p24gn.png',\n",
              " 'xxney.png',\n",
              " 'c86md.png',\n",
              " 'enn7n.png',\n",
              " 'm3588.png',\n",
              " 'pwn5e.png',\n",
              " 'xnfx5.png',\n",
              " 'yemy4.png',\n",
              " 'mcg43.png',\n",
              " '5mfff.png',\n",
              " 'p57fn.png',\n",
              " '25p2m.png',\n",
              " 'c7gb3.png',\n",
              " 'ncfgb.png',\n",
              " 'fgb36.jpg',\n",
              " 'd2nbn.png',\n",
              " '5f3gf.png',\n",
              " '85pew.jpg',\n",
              " '6wnyc.png',\n",
              " 'b2nen.png',\n",
              " 'cnwyc.png',\n",
              " '3p67n.png',\n",
              " '5x7x5.png',\n",
              " '7b4bm.png',\n",
              " 'm6n4x.png',\n",
              " 'xxw44.png',\n",
              " 'cfp86.png',\n",
              " 'm5meg.png',\n",
              " 'g247w.png',\n",
              " '6mege.png',\n",
              " 'f83pn.png',\n",
              " 'n5n8b.png',\n",
              " 'gfp54.png',\n",
              " 'ncyx8.png',\n",
              " '5nxnn.png',\n",
              " 'nwfde.png',\n",
              " 'xfn6n.png',\n",
              " 'g78gn.png',\n",
              " 'd3c8y.png',\n",
              " '3xng6.png',\n",
              " 'dnxdp.png',\n",
              " 'dmx8p.png',\n",
              " '368y5.png',\n",
              " '7yf62.png',\n",
              " '3b4we.png',\n",
              " 'ecd4w.png',\n",
              " 'n7meb.png',\n",
              " '8n34n.png',\n",
              " 'c2fb7.png',\n",
              " 'p2x7x.png',\n",
              " 'ebcbx.png',\n",
              " 'd8dce.png',\n",
              " 'dfnx4.png',\n",
              " 'x4gg5.png',\n",
              " '4w6mw.png',\n",
              " 'y48c3.png',\n",
              " '5n728.png',\n",
              " 'n3ffn.png',\n",
              " '65m85.png',\n",
              " '8gmc4.png',\n",
              " 'gn2d3.png',\n",
              " '63824.png',\n",
              " '3n2b4.png',\n",
              " 'e72cd.png',\n",
              " 'cdfen.png',\n",
              " '4nc37.png',\n",
              " '64b3p.png',\n",
              " 'm67b3.png',\n",
              " 'c8n8c.png',\n",
              " 'e43ym.png',\n",
              " '8cm46.png',\n",
              " '63pxe.png',\n",
              " 'f74x3.png',\n",
              " 'by5y3.png',\n",
              " 'g55b4.png',\n",
              " 'myc3c.png',\n",
              " 'c6f8g.png',\n",
              " 'nfcwy.png',\n",
              " '7nnnx.png',\n",
              " 'n7ebx.png',\n",
              " 'wf684.png',\n",
              " 'nngxc.png',\n",
              " 'ndg2b.png',\n",
              " '2pfpn.png',\n",
              " 'pe4xn.png',\n",
              " 'w4cdc.png',\n",
              " '37ep6.png',\n",
              " 'c753e.png',\n",
              " '5yxgp.png',\n",
              " 'ng2gw.png',\n",
              " 'ddnpf.png',\n",
              " 'fp762.png',\n",
              " 'nc4yg.png',\n",
              " 'ggd7m.png',\n",
              " 'fcmem.png',\n",
              " 'dd764.png',\n",
              " 'efgx5.png',\n",
              " '5wddw.png',\n",
              " 'fp5wn.png',\n",
              " '556wd.png',\n",
              " 'e4gd7.png',\n",
              " '4ynf3.png',\n",
              " '2w4y7.png',\n",
              " 'xbcbx.png',\n",
              " 'wnmyn.png',\n",
              " 'd22bd.png',\n",
              " 'mwxwp.png',\n",
              " '8eggg.png',\n",
              " 'p2dw7.png',\n",
              " '64m82.png',\n",
              " '2enf4.png',\n",
              " '7cgym.png',\n",
              " '7g3nf.png',\n",
              " '4c8n8.png',\n",
              " 'dpbyd.png',\n",
              " 'befbd.png',\n",
              " '47e4p.png',\n",
              " '6ydyp.png',\n",
              " 'ffnxn.png',\n",
              " 'gwn53.png',\n",
              " 'gpnxn.png',\n",
              " 'nxxf8.png',\n",
              " 'c2yn8.png',\n",
              " 'xce8d.png',\n",
              " 'pdw38.png',\n",
              " 'md344.png',\n",
              " 'wecfd.png',\n",
              " 'mb4en.png',\n",
              " 'gp7c5.png',\n",
              " 'd22y5.png',\n",
              " '5mnpd.png',\n",
              " 'nmy2x.png',\n",
              " 'b5pnn.png',\n",
              " 'nwg2m.png',\n",
              " 'nm46n.png',\n",
              " '2gyb6.png',\n",
              " '57wdp.png',\n",
              " '84w7x.png',\n",
              " '5fyem.png',\n",
              " 'nf7bn.png',\n",
              " 'ne325.png',\n",
              " '7wn74.png',\n",
              " '7xcyd.png',\n",
              " 'd2ycw.png',\n",
              " '66wp5.png',\n",
              " 'ygenn.png',\n",
              " '82fx2.png',\n",
              " '33ng4.png',\n",
              " 'xf5g7.png',\n",
              " '6cm6m.png',\n",
              " 'cfc2y.png',\n",
              " '3fbxd.png',\n",
              " 'fdpgd.png',\n",
              " 'x4f7g.png',\n",
              " 'gewfy.png',\n",
              " 'e6m6p.png',\n",
              " 'pxdwp.png',\n",
              " 'gn2xy.png',\n",
              " '8e32m.png',\n",
              " 'ygfwe.png',\n",
              " 'xc68n.png',\n",
              " 'wye85.png',\n",
              " '785n4.png',\n",
              " '3nfdn.png',\n",
              " '25egp.png',\n",
              " 'gxx2p.png',\n",
              " '3ym7f.png',\n",
              " 'd75b5.png',\n",
              " '88bgx.png',\n",
              " '2nx38.png',\n",
              " 'xfg65.png',\n",
              " 'nbwpn.png',\n",
              " 'dbex3.png',\n",
              " 'ndecc.png',\n",
              " 'bnc2f.png',\n",
              " '5325m.png',\n",
              " '3ye2e.png',\n",
              " 'pn7pn.png',\n",
              " '24pew.png',\n",
              " 'fncnb.png',\n",
              " '87nym.png',\n",
              " '5xwcg.png',\n",
              " 'gc2wd.png',\n",
              " '42xpy.png',\n",
              " 'g8gnd.png',\n",
              " 'x8xnp.png',\n",
              " 'yd755.png',\n",
              " '2wx73.png',\n",
              " 'feyc8.png',\n",
              " 'pwmbn.png',\n",
              " 'pmd3w.png',\n",
              " 'nb45d.png',\n",
              " 'wwmn6.png',\n",
              " 'fcne6.png',\n",
              " 'w6pxy.png',\n",
              " '3nw7w.png',\n",
              " 'c4bny.png',\n",
              " '4n2yg.png',\n",
              " 'gcfgp.png',\n",
              " 'cdmn8.png',\n",
              " 'e3cfe.jpg',\n",
              " 'c2pg6.png',\n",
              " 'wg625.png',\n",
              " 'n336e.png',\n",
              " '33f7m.png',\n",
              " '268g2.png',\n",
              " '4nnf3.png',\n",
              " '7pn5g.png',\n",
              " 'ee8fg.png',\n",
              " '7gmf3.png',\n",
              " 'd3ycn.png',\n",
              " '4d22m.png',\n",
              " '3p4nn.png',\n",
              " '6n443.png',\n",
              " 'pmg55.png',\n",
              " 'gf2g4.png',\n",
              " 'g888x.png',\n",
              " 'myf82.png',\n",
              " '264m5.png',\n",
              " 'xyncc.png',\n",
              " 'e7nx4.png',\n",
              " '5nnff.png',\n",
              " 'm2nf4.png',\n",
              " 'mye68.png',\n",
              " 'defyx.png',\n",
              " 'pcpg6.png',\n",
              " 'dn2ym.png',\n",
              " 'wfy5m.png',\n",
              " 'xemyg.png',\n",
              " 'g2fnw.png',\n",
              " 'gw53m.png',\n",
              " '6cwxe.png',\n",
              " '5p3mm.png',\n",
              " 'nnf8b.png',\n",
              " 'gy433.png',\n",
              " 'w6ny4.jpg',\n",
              " '5n732.png',\n",
              " 'nbfx5.png',\n",
              " '537nf.png',\n",
              " 'pg2yx.png',\n",
              " '25257.png',\n",
              " 'ydd3g.png',\n",
              " 'cpe63.png',\n",
              " 'cdcb3.png',\n",
              " '76y6f.png',\n",
              " 'bny4w.png',\n",
              " '823p2.png',\n",
              " 'c43b4.png',\n",
              " '8npd5.png',\n",
              " '67dey.png',\n",
              " 'gc277.png',\n",
              " '8b735.png',\n",
              " 'mmg2m.png',\n",
              " 'c55c6.png',\n",
              " 'gnbn4.png',\n",
              " '3xcgg.png',\n",
              " '6mygb.png',\n",
              " '5g5e5.png',\n",
              " '6xen4.png',\n",
              " '2ycn8.png',\n",
              " 'nn4wx.png',\n",
              " '2nf26.png',\n",
              " 'pdyc8.png',\n",
              " 'b2g8e.png',\n",
              " '8c2wy.png',\n",
              " '4w76g.png',\n",
              " '2nbcx.png',\n",
              " '7f8b3.png',\n",
              " '646x8.png',\n",
              " '36nx4.png',\n",
              " 'fnbfw.png',\n",
              " 'cb8cf.png',\n",
              " 'yf347.png',\n",
              " 'w8f36.png',\n",
              " '65ebm.png',\n",
              " 'cewnm.png',\n",
              " 'bm3p8.png',\n",
              " 'wd2gb.png',\n",
              " 'n8fp6.png',\n",
              " 'dbpcd.png',\n",
              " '33b22.png',\n",
              " 'n7enn.png',\n",
              " 'w48cw.png',\n",
              " 'y7d75.png',\n",
              " 'y5n6d.png',\n",
              " '664dn.png',\n",
              " 'ffd6p.png',\n",
              " 'gdng3.png',\n",
              " '3pe4g.png',\n",
              " 'n8ydd.png',\n",
              " 'wm47f.png',\n",
              " '2b827.png',\n",
              " 'wdww8.png',\n",
              " '445cc.png',\n",
              " 'byc82.png',\n",
              " '5x5nx.png',\n",
              " 'w6yne.png',\n",
              " '3ebpw.png',\n",
              " 'cwmny.png',\n",
              " '387g2.png',\n",
              " 'nnn57.png',\n",
              " 'nbmx7.png',\n",
              " 'm8gmx.png',\n",
              " 'e84n2.png',\n",
              " 'xcmbp.png',\n",
              " 'deep5.png',\n",
              " 'w2n7e.png',\n",
              " 'ny5dp.png',\n",
              " 'cm6yb.png',\n",
              " '53wp3.png',\n",
              " '573d8.png',\n",
              " 'bn5mw.png',\n",
              " '7dgc2.png',\n",
              " 'p8ngx.png',\n",
              " '2cg58.png',\n",
              " 'dw6mn.png',\n",
              " '6bxwg.png',\n",
              " 'n8wxm.jpg',\n",
              " '4b2pw.png',\n",
              " 'yy824.png',\n",
              " 'b6f2p.png',\n",
              " 'ddcne.png',\n",
              " 'm3wfw.png',\n",
              " 'ddmyg.png',\n",
              " '377xx.png',\n",
              " 'nxf2c.jpg',\n",
              " '5mf7c.png',\n",
              " '488de.png',\n",
              " 'pmf5w.png',\n",
              " '2x7bm.png',\n",
              " '3g2w6.png',\n",
              " 'wxcn8.png',\n",
              " 'f85y3.png',\n",
              " 'xnnc3.png',\n",
              " 'efx34.png',\n",
              " '6fgdw.png',\n",
              " '5n3w4.png',\n",
              " 'dw3nn.png',\n",
              " '3d7bd.png',\n",
              " 'cdf77.png',\n",
              " '8npe3.png',\n",
              " '3n7mx.png',\n",
              " 'n3x4c.png',\n",
              " 'mxyxw.png',\n",
              " '3n3cf.png',\n",
              " 'x7746.png',\n",
              " 'mggce.png',\n",
              " '8ypdn.png',\n",
              " '6g45w.png',\n",
              " '7xd5m.png',\n",
              " 'egxmp.png',\n",
              " 'dn26n.png',\n",
              " '46mbm.png',\n",
              " 'cd4eg.png',\n",
              " '44ype.png',\n",
              " '7gnge.png',\n",
              " 'mw5p2.png',\n",
              " 'pm363.png',\n",
              " 'ndme7.png',\n",
              " 'dy3cx.png',\n",
              " 'nf8b8.png',\n",
              " 'gfbx6.png',\n",
              " '56m6y.png',\n",
              " 'f7cey.png',\n",
              " 'ddcdd.png',\n",
              " '76353.png',\n",
              " 'y2xg4.png',\n",
              " '865wm.png',\n",
              " 'dbny3.png',\n",
              " '58b5m.png',\n",
              " 'n3bm6.png',\n",
              " 'yg5bb.png',\n",
              " 'b4y5x.png',\n",
              " 'de7f8.png',\n",
              " 'm5ym2.png',\n",
              " 'p8c24.png',\n",
              " '76nxn.png',\n",
              " '8gmnx.png',\n",
              " 'ncw4g.png',\n",
              " 'y4g3b.png',\n",
              " 'p6mn8.png',\n",
              " 'gmmne.jpg',\n",
              " '56ncx.png',\n",
              " '2yggg.png',\n",
              " '4egem.png',\n",
              " 'y5w28.png',\n",
              " 'c3n8x.png',\n",
              " '2nbc5.jpg',\n",
              " 'edwny.png',\n",
              " '677g3.png',\n",
              " 'nfbg8.png',\n",
              " 'cx3wg.png',\n",
              " 'cd6p4.png',\n",
              " 'f2fge.png',\n",
              " 'efe62.png',\n",
              " '23mdg.png',\n",
              " 'g842c.png',\n",
              " '3ebnn.png',\n",
              " 'c2g4d.png',\n",
              " '8n5pn.png',\n",
              " '6n5fd.png',\n",
              " 'n4b4m.png',\n",
              " 'c6745.png',\n",
              " '4yc85.png',\n",
              " 'n2by7.png',\n",
              " 'deneb.png',\n",
              " 'ycnfc.png',\n",
              " 'nwncn.png',\n",
              " 'bw5ym.png',\n",
              " '6e554.png',\n",
              " '325fb.png',\n",
              " 'e76n4.png',\n",
              " 'w7e6m.png',\n",
              " '244e2.png',\n",
              " 'g3dy6.png',\n",
              " '373gb.png',\n",
              " '5ywwf.png',\n",
              " 'xw465.png',\n",
              " 'w2e87.png',\n",
              " 'ennmm.png',\n",
              " 'b26nd.png',\n",
              " 'x76mn.png',\n",
              " '658xe.png',\n",
              " 'e5n66.png',\n",
              " 'pp87n.png',\n",
              " 'dw8d3.png',\n",
              " 'bdbb3.png',\n",
              " '6pwcn.png',\n",
              " '7634y.png',\n",
              " 'x3fwf.png',\n",
              " 'px8n8.png',\n",
              " '5pm6b.png',\n",
              " '832f3.png',\n",
              " '7dxbd.png',\n",
              " '226md.png',\n",
              " 'm22e3.png',\n",
              " 'e8dxn.png',\n",
              " 'y7mnm.png',\n",
              " 'y3c58.png',\n",
              " '662bw.png',\n",
              " 'yeyn4.png',\n",
              " '8pfxx.png',\n",
              " 'p5nce.png',\n",
              " 'mx8bb.png',\n",
              " 'e2d66.png',\n",
              " 'd236n.png',\n",
              " 'd66cn.png',\n",
              " 'bw44w.png',\n",
              " '44c22.png',\n",
              " 'pw5nc.png',\n",
              " '6b4w6.png',\n",
              " '7d44m.png',\n",
              " 'xxbm5.png',\n",
              " '6ecbn.png',\n",
              " 'dcnp8.png',\n",
              " 'bgem5.png',\n",
              " 'mpmy5.png',\n",
              " 'f364x.png',\n",
              " '8w754.png',\n",
              " '8cccc.png',\n",
              " 'wyc25.png',\n",
              " 'be6np.png',\n",
              " 'xfgxb.png',\n",
              " '34b84.png',\n",
              " '3c7de.jpg',\n",
              " '33n73.png',\n",
              " 'bf52c.png',\n",
              " '56c34.png',\n",
              " 'm23bp.png',\n",
              " 'w4x2m.png',\n",
              " '7fmcy.png',\n",
              " 'wm746.png',\n",
              " 'pgwnp.png',\n",
              " 'mcc2x.png',\n",
              " '8w875.png',\n",
              " 'ng46m.png',\n",
              " '2n73f.png',\n",
              " 'p5g5m.png',\n",
              " 'neggn.png',\n",
              " 'bdg84.png',\n",
              " 'ny3dw.png',\n",
              " '32dnn.png',\n",
              " 'n464c.png',\n",
              " 'g7gnf.png',\n",
              " 'xbem6.png',\n",
              " 'cpc8c.png',\n",
              " '6c3n6.png',\n",
              " 'bxxfc.png',\n",
              " 'n5x2n.png',\n",
              " 'n7ff2.png',\n",
              " 'dnne7.png',\n",
              " '6p7gx.png',\n",
              " 'fg7mg.png',\n",
              " '8n2pg.png',\n",
              " 'f75cx.png',\n",
              " 'nbwnn.png',\n",
              " 'd3c7y.png',\n",
              " '7wyp4.png',\n",
              " 'w8bnx.png',\n",
              " 'pbpgc.png',\n",
              " 'cffp4.png',\n",
              " '8gf7n.png',\n",
              " 'mddgb.png',\n",
              " 'd7c5x.png',\n",
              " 'mnef5.png',\n",
              " 'ygce8.jpg',\n",
              " '55y2m.png',\n",
              " '6e2dg.png',\n",
              " 'fp382.png',\n",
              " 'nny5e.png',\n",
              " 'e7x45.png',\n",
              " 'pcm7f.png',\n",
              " '8nn73.png',\n",
              " 'xwx7d.png',\n",
              " 'y4ec2.png',\n",
              " 'dnmd8.png',\n",
              " '8gecm.png',\n",
              " '2xc2n.png',\n",
              " '7e2y7.png',\n",
              " 'd4ppy.png',\n",
              " 'ewcf5.png',\n",
              " 'be3bp.png',\n",
              " '4m2w5.png',\n",
              " '84py4.jpg',\n",
              " '5xd2e.png',\n",
              " 'mg5nn.png',\n",
              " ...]"
            ]
          },
          "metadata": {
            "tags": []
          },
          "execution_count": 3
        }
      ]
    },
    {
      "cell_type": "code",
      "metadata": {
        "id": "ky1B-TAPBlC1"
      },
      "source": [
        "import cv2\n",
        "imagens = []\n",
        "for i in nomes_amostras:\n",
        "  endereco = 'samples/' + i\n",
        "  img = cv2.imread(endereco)\n",
        "  imagens.append(img)"
      ],
      "execution_count": null,
      "outputs": []
    },
    {
      "cell_type": "code",
      "metadata": {
        "id": "YQXLEKtoB72g",
        "colab": {
          "base_uri": "https://localhost:8080/"
        },
        "outputId": "b123abaa-b9a3-4f51-c93a-05b1e7875fe8"
      },
      "source": [
        "imagens[0].shape"
      ],
      "execution_count": null,
      "outputs": [
        {
          "output_type": "execute_result",
          "data": {
            "text/plain": [
              "(50, 200, 3)"
            ]
          },
          "metadata": {
            "tags": []
          },
          "execution_count": 15
        }
      ]
    },
    {
      "cell_type": "code",
      "metadata": {
        "id": "c2JECt5PCAds",
        "colab": {
          "base_uri": "https://localhost:8080/",
          "height": 67
        },
        "outputId": "194ad8de-9b7a-4cea-f215-3a303afaf9dc"
      },
      "source": [
        "from google.colab.patches import cv2_imshow\n",
        "cv2_imshow(imagens[0])"
      ],
      "execution_count": null,
      "outputs": [
        {
          "output_type": "display_data",
          "data": {
            "image/png": "[encoded data removed]",
            "text/plain": [
              "<PIL.Image.Image image mode=RGB size=200x50 at 0x7FAB1EEBA278>"
            ]
          },
          "metadata": {
            "tags": []
          }
        }
      ]
    },
    {
      "cell_type": "code",
      "metadata": {
        "id": "rlhON3YdCOhs"
      },
      "source": [
        "import numpy as np\n",
        "(b , g , r) = cv2.split(imagns[0])\n",
        "zeros = np.zeros(imagens[0].shape[:2],dtype = 'uint8')\n",
        "cv2.imshow(\"Vermelho\",cv2.merge([zeros,zeros,r]))\n",
        "cv2.imshow(\"Verde\",cv2.merge([zeros,g,zeros]))\n",
        "cv2.imshow(\"Azul\",cv2.merge([b,zeros,zeros]))\n",
        "cv2.waitkey(0)\n",
        "cv2.destroyAllWindows()"
      ],
      "execution_count": null,
      "outputs": []
    },
    {
      "cell_type": "code",
      "metadata": {
        "id": "CLKwxwliDUAk"
      },
      "source": [
        "imagens_cinza = []\n",
        "for i in imagens:\n",
        "  img_cinza = cv2.cvtColor(i,cv2.COLOR_BGR2GRAY)\n",
        "  imagens_cinza.append(img_cinza)"
      ],
      "execution_count": null,
      "outputs": []
    },
    {
      "cell_type": "code",
      "metadata": {
        "colab": {
          "base_uri": "https://localhost:8080/"
        },
        "id": "DT_HxtoDD9sQ",
        "outputId": "2ca846e8-011d-453d-fd91-93614141b834"
      },
      "source": [
        "len(imagens_cinza)"
      ],
      "execution_count": null,
      "outputs": [
        {
          "output_type": "execute_result",
          "data": {
            "text/plain": [
              "1070"
            ]
          },
          "metadata": {
            "tags": []
          },
          "execution_count": 23
        }
      ]
    },
    {
      "cell_type": "code",
      "metadata": {
        "colab": {
          "base_uri": "https://localhost:8080/"
        },
        "id": "JIgEXQs4EFOM",
        "outputId": "71ebc400-912e-4583-97af-92ad3c97efcf"
      },
      "source": [
        "imagens_cinza[0].shape"
      ],
      "execution_count": null,
      "outputs": [
        {
          "output_type": "execute_result",
          "data": {
            "text/plain": [
              "(50, 200)"
            ]
          },
          "metadata": {
            "tags": []
          },
          "execution_count": 24
        }
      ]
    },
    {
      "cell_type": "code",
      "metadata": {
        "id": "eCP5PhvwEFwp"
      },
      "source": [
        "cv2.imshow('Figura',imagens_cinza[0])\n",
        "cv2.waitkey(0)\n",
        "cv2.destroyAllWindows()"
      ],
      "execution_count": null,
      "outputs": []
    },
    {
      "cell_type": "code",
      "metadata": {
        "id": "8coaPpmxETBE"
      },
      "source": [
        "cv2.imshow('Figura',imagens_cinza[0][12:50,30:50])\n",
        "cv2.waitkey(0)\n",
        "cv2.destroyAllWindows()"
      ],
      "execution_count": null,
      "outputs": []
    },
    {
      "cell_type": "code",
      "metadata": {
        "id": "8Q3wv8WVEYjB"
      },
      "source": [
        "import numpy as np\n",
        "x_novo = np.zeros((len(nomes_amostras)*5,38,20))\n",
        "inicio_x,inicio_y,w,h = 30,12,20,50\n",
        "for i in range(len(imagens_cinza)):\n",
        "  px = inicio_x\n",
        "  for j in range(5):\n",
        "    x_novo[i*5+j] = imagens_cinza[i][inicio_y:h,px:px+w]\n",
        "    px += w"
      ],
      "execution_count": null,
      "outputs": []
    },
    {
      "cell_type": "code",
      "metadata": {
        "colab": {
          "base_uri": "https://localhost:8080/"
        },
        "id": "-z7qjPsbFYOo",
        "outputId": "e66dc439-0fcf-4f57-991c-5fb9d8abdd75"
      },
      "source": [
        "x_novo.shape"
      ],
      "execution_count": null,
      "outputs": [
        {
          "output_type": "execute_result",
          "data": {
            "text/plain": [
              "(5350, 38, 20)"
            ]
          },
          "metadata": {
            "tags": []
          },
          "execution_count": 27
        }
      ]
    },
    {
      "cell_type": "code",
      "metadata": {
        "colab": {
          "base_uri": "https://localhost:8080/",
          "height": 425
        },
        "id": "VOI-eDVkFaCV",
        "outputId": "5a46f576-3d44-48a7-9d6a-33ec14ebeb19"
      },
      "source": [
        "cv2.imshow('Figura6',imagens_cinza[1])\n",
        "cv2.imshow('Figura1',x_novo[5])\n",
        "cv2.imshow('Figura2',x_novo[6])\n",
        "cv2.imshow('Figura3',x_novo[7])\n",
        "cv2.imshow('Figura4',x_novo[8])\n",
        "cv2.imshow('Figura5',x_novo[9])\n",
        "cv2.waitkey(0)\n",
        "cv2.destroyAllWindows()"
      ],
      "execution_count": null,
      "outputs": [
        {
          "output_type": "error",
          "ename": "DisabledFunctionError",
          "evalue": "ignored",
          "traceback": [
            "\u001b[0;31m---------------------------------------------------------------------------\u001b[0m",
            "\u001b[0;31mDisabledFunctionError\u001b[0m                     Traceback (most recent call last)",
            "\u001b[0;32m<ipython-input-28-636b93558f2f>\u001b[0m in \u001b[0;36m<module>\u001b[0;34m()\u001b[0m\n\u001b[0;32m----> 1\u001b[0;31m \u001b[0mcv2\u001b[0m\u001b[0;34m.\u001b[0m\u001b[0mimshow\u001b[0m\u001b[0;34m(\u001b[0m\u001b[0;34m'Figura6'\u001b[0m\u001b[0;34m,\u001b[0m\u001b[0mimagens_cinza\u001b[0m\u001b[0;34m[\u001b[0m\u001b[0;36m1\u001b[0m\u001b[0;34m]\u001b[0m\u001b[0;34m)\u001b[0m\u001b[0;34m\u001b[0m\u001b[0;34m\u001b[0m\u001b[0m\n\u001b[0m\u001b[1;32m      2\u001b[0m \u001b[0mcv2\u001b[0m\u001b[0;34m.\u001b[0m\u001b[0mimshow\u001b[0m\u001b[0;34m(\u001b[0m\u001b[0;34m'Figura1'\u001b[0m\u001b[0;34m,\u001b[0m\u001b[0mx_novo\u001b[0m\u001b[0;34m[\u001b[0m\u001b[0;36m5\u001b[0m\u001b[0;34m]\u001b[0m\u001b[0;34m)\u001b[0m\u001b[0;34m\u001b[0m\u001b[0;34m\u001b[0m\u001b[0m\n\u001b[1;32m      3\u001b[0m \u001b[0mcv2\u001b[0m\u001b[0;34m.\u001b[0m\u001b[0mimshow\u001b[0m\u001b[0;34m(\u001b[0m\u001b[0;34m'Figura2'\u001b[0m\u001b[0;34m,\u001b[0m\u001b[0mx_novo\u001b[0m\u001b[0;34m[\u001b[0m\u001b[0;36m6\u001b[0m\u001b[0;34m]\u001b[0m\u001b[0;34m)\u001b[0m\u001b[0;34m\u001b[0m\u001b[0;34m\u001b[0m\u001b[0m\n\u001b[1;32m      4\u001b[0m \u001b[0mcv2\u001b[0m\u001b[0;34m.\u001b[0m\u001b[0mimshow\u001b[0m\u001b[0;34m(\u001b[0m\u001b[0;34m'Figura3'\u001b[0m\u001b[0;34m,\u001b[0m\u001b[0mx_novo\u001b[0m\u001b[0;34m[\u001b[0m\u001b[0;36m7\u001b[0m\u001b[0;34m]\u001b[0m\u001b[0;34m)\u001b[0m\u001b[0;34m\u001b[0m\u001b[0;34m\u001b[0m\u001b[0m\n\u001b[1;32m      5\u001b[0m \u001b[0mcv2\u001b[0m\u001b[0;34m.\u001b[0m\u001b[0mimshow\u001b[0m\u001b[0;34m(\u001b[0m\u001b[0;34m'Figura4'\u001b[0m\u001b[0;34m,\u001b[0m\u001b[0mx_novo\u001b[0m\u001b[0;34m[\u001b[0m\u001b[0;36m8\u001b[0m\u001b[0;34m]\u001b[0m\u001b[0;34m)\u001b[0m\u001b[0;34m\u001b[0m\u001b[0;34m\u001b[0m\u001b[0m\n",
            "\u001b[0;32m/usr/local/lib/python3.6/dist-packages/google/colab/_import_hooks/_cv2.py\u001b[0m in \u001b[0;36mwrapped\u001b[0;34m(*args, **kwargs)\u001b[0m\n\u001b[1;32m     50\u001b[0m   \u001b[0;32mdef\u001b[0m \u001b[0mwrapped\u001b[0m\u001b[0;34m(\u001b[0m\u001b[0;34m*\u001b[0m\u001b[0margs\u001b[0m\u001b[0;34m,\u001b[0m \u001b[0;34m**\u001b[0m\u001b[0mkwargs\u001b[0m\u001b[0;34m)\u001b[0m\u001b[0;34m:\u001b[0m\u001b[0;34m\u001b[0m\u001b[0;34m\u001b[0m\u001b[0m\n\u001b[1;32m     51\u001b[0m     \u001b[0;32mif\u001b[0m \u001b[0;32mnot\u001b[0m \u001b[0mos\u001b[0m\u001b[0;34m.\u001b[0m\u001b[0menviron\u001b[0m\u001b[0;34m.\u001b[0m\u001b[0mget\u001b[0m\u001b[0;34m(\u001b[0m\u001b[0menv_var\u001b[0m\u001b[0;34m,\u001b[0m \u001b[0;32mFalse\u001b[0m\u001b[0;34m)\u001b[0m\u001b[0;34m:\u001b[0m\u001b[0;34m\u001b[0m\u001b[0;34m\u001b[0m\u001b[0m\n\u001b[0;32m---> 52\u001b[0;31m       \u001b[0;32mraise\u001b[0m \u001b[0mDisabledFunctionError\u001b[0m\u001b[0;34m(\u001b[0m\u001b[0mmessage\u001b[0m\u001b[0;34m,\u001b[0m \u001b[0mname\u001b[0m \u001b[0;32mor\u001b[0m \u001b[0mfunc\u001b[0m\u001b[0;34m.\u001b[0m\u001b[0m__name__\u001b[0m\u001b[0;34m)\u001b[0m\u001b[0;34m\u001b[0m\u001b[0;34m\u001b[0m\u001b[0m\n\u001b[0m\u001b[1;32m     53\u001b[0m     \u001b[0;32mreturn\u001b[0m \u001b[0mfunc\u001b[0m\u001b[0;34m(\u001b[0m\u001b[0;34m*\u001b[0m\u001b[0margs\u001b[0m\u001b[0;34m,\u001b[0m \u001b[0;34m**\u001b[0m\u001b[0mkwargs\u001b[0m\u001b[0;34m)\u001b[0m\u001b[0;34m\u001b[0m\u001b[0;34m\u001b[0m\u001b[0m\n\u001b[1;32m     54\u001b[0m \u001b[0;34m\u001b[0m\u001b[0m\n",
            "\u001b[0;31mDisabledFunctionError\u001b[0m: cv2.imshow() is disabled in Colab, because it causes Jupyter sessions\nto crash; see https://github.com/jupyter/notebook/issues/3935.\nAs a substitution, consider using\n  from google.colab.patches import cv2_imshow\n"
          ]
        }
      ]
    },
    {
      "cell_type": "code",
      "metadata": {
        "id": "XBnzNDjkF4Gr"
      },
      "source": [
        "x = np.zeros((x_novo.shape[0],x_novo.shape[1],x_novo.shape[2],1))\n",
        "\n",
        "for i in range(x_novo.shape[0]):\n",
        "  norm = x_novo[i]/250\n",
        "  img = np.reshape(x_novo[i],(x_novo.shape[1],x_novo.shape[2],1))\n",
        "  x[i] = img"
      ],
      "execution_count": null,
      "outputs": []
    },
    {
      "cell_type": "code",
      "metadata": {
        "colab": {
          "base_uri": "https://localhost:8080/"
        },
        "id": "SBHpOA_2Gb7q",
        "outputId": "65bdc963-623d-4bfd-dd57-780de0d84041"
      },
      "source": [
        "x.shape"
      ],
      "execution_count": null,
      "outputs": [
        {
          "output_type": "execute_result",
          "data": {
            "text/plain": [
              "(5350, 38, 20, 1)"
            ]
          },
          "metadata": {
            "tags": []
          },
          "execution_count": 30
        }
      ]
    },
    {
      "cell_type": "code",
      "metadata": {
        "id": "7KmRpOPhGehV"
      },
      "source": [
        "y_atual = nomes_amostras"
      ],
      "execution_count": null,
      "outputs": []
    },
    {
      "cell_type": "code",
      "metadata": {
        "colab": {
          "base_uri": "https://localhost:8080/",
          "height": 36
        },
        "id": "9byGgLbNGiNn",
        "outputId": "c7417026-79c8-46ed-bbb0-ea8edb5e2819"
      },
      "source": [
        "y_atual[0][0:5]"
      ],
      "execution_count": null,
      "outputs": [
        {
          "output_type": "execute_result",
          "data": {
            "application/vnd.google.colaboratory.intrinsic+json": {
              "type": "string"
            },
            "text/plain": [
              "'3den6'"
            ]
          },
          "metadata": {
            "tags": []
          },
          "execution_count": 33
        }
      ]
    },
    {
      "cell_type": "code",
      "metadata": {
        "id": "F6P1yb-YGpmW"
      },
      "source": [
        "for i in range(len(y_atual)):\n",
        "  y_atual[i] = y_atual[i][0:5]"
      ],
      "execution_count": null,
      "outputs": []
    },
    {
      "cell_type": "code",
      "metadata": {
        "colab": {
          "base_uri": "https://localhost:8080/",
          "height": 36
        },
        "id": "BSHteJHIG-ZP",
        "outputId": "b22e614b-ab6c-4198-c587-050b8b7113e8"
      },
      "source": [
        "y_atual[0]"
      ],
      "execution_count": null,
      "outputs": [
        {
          "output_type": "execute_result",
          "data": {
            "application/vnd.google.colaboratory.intrinsic+json": {
              "type": "string"
            },
            "text/plain": [
              "'3den6'"
            ]
          },
          "metadata": {
            "tags": []
          },
          "execution_count": 35
        }
      ]
    },
    {
      "cell_type": "code",
      "metadata": {
        "colab": {
          "base_uri": "https://localhost:8080/"
        },
        "id": "t5W2BbR5HPn8",
        "outputId": "dd0d3291-8d10-416e-fce5-a0bb1d2e9045"
      },
      "source": [
        "len(y_atual)"
      ],
      "execution_count": null,
      "outputs": [
        {
          "output_type": "execute_result",
          "data": {
            "text/plain": [
              "1070"
            ]
          },
          "metadata": {
            "tags": []
          },
          "execution_count": 36
        }
      ]
    },
    {
      "cell_type": "code",
      "metadata": {
        "id": "Uw_gwz8_Gq1T"
      },
      "source": [
        "y = [None]*x.shape[0]\n",
        "for i in range(len(y_atual)):\n",
        "  for j in range(5):\n",
        "    y[i*5+j] = y_atual[i][j]"
      ],
      "execution_count": null,
      "outputs": []
    },
    {
      "cell_type": "code",
      "metadata": {
        "colab": {
          "base_uri": "https://localhost:8080/"
        },
        "id": "3dOvQdlKHiSl",
        "outputId": "678d7552-8aa6-46d7-b5c7-14432da1391a"
      },
      "source": [
        "len(y)"
      ],
      "execution_count": null,
      "outputs": [
        {
          "output_type": "execute_result",
          "data": {
            "text/plain": [
              "5350"
            ]
          },
          "metadata": {
            "tags": []
          },
          "execution_count": 38
        }
      ]
    },
    {
      "cell_type": "code",
      "metadata": {
        "colab": {
          "base_uri": "https://localhost:8080/",
          "height": 36
        },
        "id": "0akaHpR7H26T",
        "outputId": "550027ef-c0e2-4da8-8d94-10d12ac38992"
      },
      "source": [
        "y[4]"
      ],
      "execution_count": null,
      "outputs": [
        {
          "output_type": "execute_result",
          "data": {
            "application/vnd.google.colaboratory.intrinsic+json": {
              "type": "string"
            },
            "text/plain": [
              "'6'"
            ]
          },
          "metadata": {
            "tags": []
          },
          "execution_count": 39
        }
      ]
    },
    {
      "cell_type": "code",
      "metadata": {
        "id": "H-KyERlTHjeK"
      },
      "source": [
        "import string\n",
        "simbolos = string.ascii_lowercase + '0123456789'"
      ],
      "execution_count": null,
      "outputs": []
    },
    {
      "cell_type": "code",
      "metadata": {
        "colab": {
          "base_uri": "https://localhost:8080/",
          "height": 36
        },
        "id": "Ldq_65iNHuvn",
        "outputId": "926c9c60-2afa-4957-b94a-a2404985417e"
      },
      "source": [
        "simbolos"
      ],
      "execution_count": null,
      "outputs": [
        {
          "output_type": "execute_result",
          "data": {
            "application/vnd.google.colaboratory.intrinsic+json": {
              "type": "string"
            },
            "text/plain": [
              "'abcdefghijklmnopqrstuvwxyz0123456789'"
            ]
          },
          "metadata": {
            "tags": []
          },
          "execution_count": 41
        }
      ]
    },
    {
      "cell_type": "code",
      "metadata": {
        "colab": {
          "base_uri": "https://localhost:8080/"
        },
        "id": "FhZ5WEpEHvPU",
        "outputId": "1e9e3757-2c60-4af9-cf8d-aba102823dad"
      },
      "source": [
        "simbolos.find('f')"
      ],
      "execution_count": null,
      "outputs": [
        {
          "output_type": "execute_result",
          "data": {
            "text/plain": [
              "5"
            ]
          },
          "metadata": {
            "tags": []
          },
          "execution_count": 42
        }
      ]
    },
    {
      "cell_type": "code",
      "metadata": {
        "id": "ljmlD6vzHyKZ"
      },
      "source": [
        "y_final = np.zeros((len(y),36))\n",
        "for i in range(len(y)):\n",
        "  caractere = y[i]\n",
        "  loc_caractere = simbolos.find(caractere)\n",
        "  y_final[i,loc_caractere] = 1"
      ],
      "execution_count": null,
      "outputs": []
    },
    {
      "cell_type": "code",
      "metadata": {
        "colab": {
          "base_uri": "https://localhost:8080/"
        },
        "id": "rX553yzgISLu",
        "outputId": "ef9b36c8-5ef6-4e01-a72f-7e5242e9da36"
      },
      "source": [
        "y_final[0]"
      ],
      "execution_count": null,
      "outputs": [
        {
          "output_type": "execute_result",
          "data": {
            "text/plain": [
              "array([0., 0., 0., 0., 0., 0., 0., 0., 0., 0., 0., 0., 0., 0., 0., 0., 0.,\n",
              "       0., 0., 0., 0., 0., 0., 0., 0., 0., 0., 0., 0., 1., 0., 0., 0., 0.,\n",
              "       0., 0.])"
            ]
          },
          "metadata": {
            "tags": []
          },
          "execution_count": 44
        }
      ]
    },
    {
      "cell_type": "code",
      "metadata": {
        "colab": {
          "base_uri": "https://localhost:8080/"
        },
        "id": "lz-iG30zIXF0",
        "outputId": "19c9761e-125d-41f4-aebc-1d3c4f841f21"
      },
      "source": [
        "y_final.shape"
      ],
      "execution_count": null,
      "outputs": [
        {
          "output_type": "execute_result",
          "data": {
            "text/plain": [
              "(5350, 36)"
            ]
          },
          "metadata": {
            "tags": []
          },
          "execution_count": 45
        }
      ]
    },
    {
      "cell_type": "code",
      "metadata": {
        "id": "BlE6MzpZIYrU"
      },
      "source": [
        "from sklearn.model_selection import train_test_split\n",
        "(x_treino,x_teste,y_treino,y_teste) = train_test_split(x,y_final,test_size = 0.2,random_state=8)"
      ],
      "execution_count": null,
      "outputs": []
    },
    {
      "cell_type": "code",
      "metadata": {
        "colab": {
          "base_uri": "https://localhost:8080/"
        },
        "id": "mGseEdJ4I1u-",
        "outputId": "f1fb374a-1e58-4c95-ca50-aa9a37e50ba5"
      },
      "source": [
        "x_treino.shape"
      ],
      "execution_count": null,
      "outputs": [
        {
          "output_type": "execute_result",
          "data": {
            "text/plain": [
              "(4280, 38, 20, 1)"
            ]
          },
          "metadata": {
            "tags": []
          },
          "execution_count": 47
        }
      ]
    },
    {
      "cell_type": "code",
      "metadata": {
        "id": "UnXhKXcCI3hx"
      },
      "source": [
        "from keras.models import Sequential\n",
        "from keras.layers import Dense,Dropout,Conv2D,Flatten,MaxPooling2D\n",
        "\n",
        "modelo = Sequential()\n",
        "modelo.add(Conv2D(filters=32,kernel_size=3,activation='relu',input_shape=(38,20,1)))\n",
        "modelo.add(Conv2D(filters=32,kernel_size=3,activation='relu'))\n",
        "modelo.add(MaxPooling2D(pool_size = (2,2) , strides = None, padding = 'valid'))\n",
        "modelo.add(Dropout(0.2))\n",
        "modelo.add(Conv2D(filters=64,kernel_size=3,activation='relu'))\n",
        "modelo.add(Conv2D(filters=64,kernel_size=3,activation='relu'))\n",
        "modelo.add(MaxPooling2D(pool_size = (2,2) , strides = None, padding = 'valid'))\n",
        "modelo.add(Dropout(0.2))\n",
        "modelo.add(Flatten())\n",
        "modelo.add(Dense(80,kernel_initializer='glorot_uniform',activation='relu'))\n",
        "modelo.add(Dropout(0.2))\n",
        "modelo.add(Dense(36,kernel_initializer='glorot_uniform',activation='softmax'))"
      ],
      "execution_count": null,
      "outputs": []
    },
    {
      "cell_type": "code",
      "metadata": {
        "id": "YTyWep2EKtoo"
      },
      "source": [
        "from keras.optimizers import Adam\n",
        "otimizador = Adam()\n",
        "\n",
        "modelo.compile(loss='categorical_crossentropy',optimizer=otimizador,metrics=['acc'])"
      ],
      "execution_count": null,
      "outputs": []
    },
    {
      "cell_type": "code",
      "metadata": {
        "colab": {
          "base_uri": "https://localhost:8080/"
        },
        "id": "djmmxB7ZKx04",
        "outputId": "dc2446f7-8e72-4941-a665-a6a4cdb9aca0"
      },
      "source": [
        "historico = modelo.fit(x_treino,y_treino,epochs=100,batch_size=428,validation_data=(x_teste,y_teste),verbose=1)"
      ],
      "execution_count": null,
      "outputs": [
        {
          "output_type": "stream",
          "text": [
            "Epoch 1/100\n",
            "10/10 [==============================] - 1s 40ms/step - loss: 14.6514 - acc: 0.0348 - val_loss: 3.4918 - val_acc: 0.1009\n",
            "Epoch 2/100\n",
            "10/10 [==============================] - 0s 19ms/step - loss: 3.4663 - acc: 0.0734 - val_loss: 3.3593 - val_acc: 0.1075\n",
            "Epoch 3/100\n",
            "10/10 [==============================] - 0s 19ms/step - loss: 3.3142 - acc: 0.0889 - val_loss: 3.1299 - val_acc: 0.1636\n",
            "Epoch 4/100\n",
            "10/10 [==============================] - 0s 18ms/step - loss: 3.1001 - acc: 0.1255 - val_loss: 2.7869 - val_acc: 0.2607\n",
            "Epoch 5/100\n",
            "10/10 [==============================] - 0s 19ms/step - loss: 2.8181 - acc: 0.1876 - val_loss: 2.3556 - val_acc: 0.3458\n",
            "Epoch 6/100\n",
            "10/10 [==============================] - 0s 19ms/step - loss: 2.5165 - acc: 0.2646 - val_loss: 1.8908 - val_acc: 0.4794\n",
            "Epoch 7/100\n",
            "10/10 [==============================] - 0s 29ms/step - loss: 2.0988 - acc: 0.3778 - val_loss: 1.5815 - val_acc: 0.5897\n",
            "Epoch 8/100\n",
            "10/10 [==============================] - 0s 18ms/step - loss: 1.8400 - acc: 0.4494 - val_loss: 1.2864 - val_acc: 0.6682\n",
            "Epoch 9/100\n",
            "10/10 [==============================] - 0s 19ms/step - loss: 1.5832 - acc: 0.5201 - val_loss: 1.1089 - val_acc: 0.7121\n",
            "Epoch 10/100\n",
            "10/10 [==============================] - 0s 18ms/step - loss: 1.3838 - acc: 0.5951 - val_loss: 0.9370 - val_acc: 0.7673\n",
            "Epoch 11/100\n",
            "10/10 [==============================] - 0s 18ms/step - loss: 1.2089 - acc: 0.6488 - val_loss: 0.8275 - val_acc: 0.7850\n",
            "Epoch 12/100\n",
            "10/10 [==============================] - 0s 19ms/step - loss: 1.0838 - acc: 0.6819 - val_loss: 0.7554 - val_acc: 0.8112\n",
            "Epoch 13/100\n",
            "10/10 [==============================] - 0s 18ms/step - loss: 0.9620 - acc: 0.7197 - val_loss: 0.6922 - val_acc: 0.8243\n",
            "Epoch 14/100\n",
            "10/10 [==============================] - 0s 18ms/step - loss: 0.9064 - acc: 0.7432 - val_loss: 0.6507 - val_acc: 0.8327\n",
            "Epoch 15/100\n",
            "10/10 [==============================] - 0s 18ms/step - loss: 0.8809 - acc: 0.7549 - val_loss: 0.6032 - val_acc: 0.8355\n",
            "Epoch 16/100\n",
            "10/10 [==============================] - 0s 18ms/step - loss: 0.7841 - acc: 0.7718 - val_loss: 0.5825 - val_acc: 0.8523\n",
            "Epoch 17/100\n",
            "10/10 [==============================] - 0s 18ms/step - loss: 0.7269 - acc: 0.7851 - val_loss: 0.5564 - val_acc: 0.8523\n",
            "Epoch 18/100\n",
            "10/10 [==============================] - 0s 18ms/step - loss: 0.7475 - acc: 0.7876 - val_loss: 0.5380 - val_acc: 0.8645\n",
            "Epoch 19/100\n",
            "10/10 [==============================] - 0s 19ms/step - loss: 0.6798 - acc: 0.7967 - val_loss: 0.5150 - val_acc: 0.8701\n",
            "Epoch 20/100\n",
            "10/10 [==============================] - 0s 18ms/step - loss: 0.6382 - acc: 0.8131 - val_loss: 0.4908 - val_acc: 0.8692\n",
            "Epoch 21/100\n",
            "10/10 [==============================] - 0s 18ms/step - loss: 0.6401 - acc: 0.8198 - val_loss: 0.4836 - val_acc: 0.8748\n",
            "Epoch 22/100\n",
            "10/10 [==============================] - 0s 19ms/step - loss: 0.6328 - acc: 0.8078 - val_loss: 0.4735 - val_acc: 0.8822\n",
            "Epoch 23/100\n",
            "10/10 [==============================] - 0s 19ms/step - loss: 0.5567 - acc: 0.8347 - val_loss: 0.4672 - val_acc: 0.8757\n",
            "Epoch 24/100\n",
            "10/10 [==============================] - 0s 19ms/step - loss: 0.5647 - acc: 0.8428 - val_loss: 0.4503 - val_acc: 0.8832\n",
            "Epoch 25/100\n",
            "10/10 [==============================] - 0s 19ms/step - loss: 0.5155 - acc: 0.8450 - val_loss: 0.4360 - val_acc: 0.8879\n",
            "Epoch 26/100\n",
            "10/10 [==============================] - 0s 18ms/step - loss: 0.5151 - acc: 0.8492 - val_loss: 0.4318 - val_acc: 0.8879\n",
            "Epoch 27/100\n",
            "10/10 [==============================] - 0s 19ms/step - loss: 0.4937 - acc: 0.8530 - val_loss: 0.4230 - val_acc: 0.8907\n",
            "Epoch 28/100\n",
            "10/10 [==============================] - 0s 19ms/step - loss: 0.4765 - acc: 0.8562 - val_loss: 0.4108 - val_acc: 0.8953\n",
            "Epoch 29/100\n",
            "10/10 [==============================] - 0s 19ms/step - loss: 0.4678 - acc: 0.8599 - val_loss: 0.4032 - val_acc: 0.8963\n",
            "Epoch 30/100\n",
            "10/10 [==============================] - 0s 18ms/step - loss: 0.4772 - acc: 0.8539 - val_loss: 0.4275 - val_acc: 0.8935\n",
            "Epoch 31/100\n",
            "10/10 [==============================] - 0s 18ms/step - loss: 0.4737 - acc: 0.8550 - val_loss: 0.4118 - val_acc: 0.8925\n",
            "Epoch 32/100\n",
            "10/10 [==============================] - 0s 18ms/step - loss: 0.4587 - acc: 0.8563 - val_loss: 0.4092 - val_acc: 0.8888\n",
            "Epoch 33/100\n",
            "10/10 [==============================] - 0s 18ms/step - loss: 0.4072 - acc: 0.8763 - val_loss: 0.3893 - val_acc: 0.8963\n",
            "Epoch 34/100\n",
            "10/10 [==============================] - 0s 19ms/step - loss: 0.3889 - acc: 0.8799 - val_loss: 0.3952 - val_acc: 0.8953\n",
            "Epoch 35/100\n",
            "10/10 [==============================] - 0s 19ms/step - loss: 0.4284 - acc: 0.8702 - val_loss: 0.3798 - val_acc: 0.8944\n",
            "Epoch 36/100\n",
            "10/10 [==============================] - 0s 18ms/step - loss: 0.3778 - acc: 0.8819 - val_loss: 0.3858 - val_acc: 0.8972\n",
            "Epoch 37/100\n",
            "10/10 [==============================] - 0s 19ms/step - loss: 0.3701 - acc: 0.8781 - val_loss: 0.3761 - val_acc: 0.9019\n",
            "Epoch 38/100\n",
            "10/10 [==============================] - 0s 19ms/step - loss: 0.3608 - acc: 0.8889 - val_loss: 0.3822 - val_acc: 0.9028\n",
            "Epoch 39/100\n",
            "10/10 [==============================] - 0s 18ms/step - loss: 0.3536 - acc: 0.8899 - val_loss: 0.3758 - val_acc: 0.8991\n",
            "Epoch 40/100\n",
            "10/10 [==============================] - 0s 19ms/step - loss: 0.3761 - acc: 0.8817 - val_loss: 0.3828 - val_acc: 0.8991\n",
            "Epoch 41/100\n",
            "10/10 [==============================] - 0s 18ms/step - loss: 0.3413 - acc: 0.8890 - val_loss: 0.3829 - val_acc: 0.9047\n",
            "Epoch 42/100\n",
            "10/10 [==============================] - 0s 18ms/step - loss: 0.3403 - acc: 0.8939 - val_loss: 0.3728 - val_acc: 0.9019\n",
            "Epoch 43/100\n",
            "10/10 [==============================] - 0s 18ms/step - loss: 0.3187 - acc: 0.8930 - val_loss: 0.3775 - val_acc: 0.9019\n",
            "Epoch 44/100\n",
            "10/10 [==============================] - 0s 19ms/step - loss: 0.3163 - acc: 0.9003 - val_loss: 0.3676 - val_acc: 0.9019\n",
            "Epoch 45/100\n",
            "10/10 [==============================] - 0s 18ms/step - loss: 0.3134 - acc: 0.8963 - val_loss: 0.3745 - val_acc: 0.9028\n",
            "Epoch 46/100\n",
            "10/10 [==============================] - 0s 19ms/step - loss: 0.3321 - acc: 0.8930 - val_loss: 0.3506 - val_acc: 0.9037\n",
            "Epoch 47/100\n",
            "10/10 [==============================] - 0s 20ms/step - loss: 0.2951 - acc: 0.9056 - val_loss: 0.3786 - val_acc: 0.9037\n",
            "Epoch 48/100\n",
            "10/10 [==============================] - 0s 19ms/step - loss: 0.2880 - acc: 0.9055 - val_loss: 0.3704 - val_acc: 0.9000\n",
            "Epoch 49/100\n",
            "10/10 [==============================] - 0s 19ms/step - loss: 0.2897 - acc: 0.9005 - val_loss: 0.3656 - val_acc: 0.9065\n",
            "Epoch 50/100\n",
            "10/10 [==============================] - 0s 19ms/step - loss: 0.2691 - acc: 0.9093 - val_loss: 0.3580 - val_acc: 0.9084\n",
            "Epoch 51/100\n",
            "10/10 [==============================] - 0s 19ms/step - loss: 0.2530 - acc: 0.9118 - val_loss: 0.3640 - val_acc: 0.9056\n",
            "Epoch 52/100\n",
            "10/10 [==============================] - 0s 19ms/step - loss: 0.2667 - acc: 0.9055 - val_loss: 0.3782 - val_acc: 0.9056\n",
            "Epoch 53/100\n",
            "10/10 [==============================] - 0s 19ms/step - loss: 0.2609 - acc: 0.9123 - val_loss: 0.3798 - val_acc: 0.9009\n",
            "Epoch 54/100\n",
            "10/10 [==============================] - 0s 18ms/step - loss: 0.2669 - acc: 0.9051 - val_loss: 0.3636 - val_acc: 0.9075\n",
            "Epoch 55/100\n",
            "10/10 [==============================] - 0s 19ms/step - loss: 0.2449 - acc: 0.9163 - val_loss: 0.3719 - val_acc: 0.9056\n",
            "Epoch 56/100\n",
            "10/10 [==============================] - 0s 19ms/step - loss: 0.2463 - acc: 0.9145 - val_loss: 0.3732 - val_acc: 0.9037\n",
            "Epoch 57/100\n",
            "10/10 [==============================] - 0s 18ms/step - loss: 0.2515 - acc: 0.9125 - val_loss: 0.3646 - val_acc: 0.9056\n",
            "Epoch 58/100\n",
            "10/10 [==============================] - 0s 18ms/step - loss: 0.2156 - acc: 0.9255 - val_loss: 0.3826 - val_acc: 0.9000\n",
            "Epoch 59/100\n",
            "10/10 [==============================] - 0s 18ms/step - loss: 0.2404 - acc: 0.9179 - val_loss: 0.3665 - val_acc: 0.9084\n",
            "Epoch 60/100\n",
            "10/10 [==============================] - 0s 19ms/step - loss: 0.2251 - acc: 0.9199 - val_loss: 0.3703 - val_acc: 0.9084\n",
            "Epoch 61/100\n",
            "10/10 [==============================] - 0s 18ms/step - loss: 0.2179 - acc: 0.9236 - val_loss: 0.3730 - val_acc: 0.9093\n",
            "Epoch 62/100\n",
            "10/10 [==============================] - 0s 18ms/step - loss: 0.2249 - acc: 0.9199 - val_loss: 0.3709 - val_acc: 0.9009\n",
            "Epoch 63/100\n",
            "10/10 [==============================] - 0s 29ms/step - loss: 0.2128 - acc: 0.9271 - val_loss: 0.3754 - val_acc: 0.9093\n",
            "Epoch 64/100\n",
            "10/10 [==============================] - 0s 19ms/step - loss: 0.2063 - acc: 0.9284 - val_loss: 0.3623 - val_acc: 0.9000\n",
            "Epoch 65/100\n",
            "10/10 [==============================] - 0s 19ms/step - loss: 0.2166 - acc: 0.9208 - val_loss: 0.3728 - val_acc: 0.9103\n",
            "Epoch 66/100\n",
            "10/10 [==============================] - 0s 19ms/step - loss: 0.2238 - acc: 0.9196 - val_loss: 0.3652 - val_acc: 0.9075\n",
            "Epoch 67/100\n",
            "10/10 [==============================] - 0s 18ms/step - loss: 0.2110 - acc: 0.9221 - val_loss: 0.3874 - val_acc: 0.9056\n",
            "Epoch 68/100\n",
            "10/10 [==============================] - 0s 19ms/step - loss: 0.2119 - acc: 0.9276 - val_loss: 0.3722 - val_acc: 0.9056\n",
            "Epoch 69/100\n",
            "10/10 [==============================] - 0s 19ms/step - loss: 0.1893 - acc: 0.9312 - val_loss: 0.3811 - val_acc: 0.9075\n",
            "Epoch 70/100\n",
            "10/10 [==============================] - 0s 19ms/step - loss: 0.1871 - acc: 0.9353 - val_loss: 0.3859 - val_acc: 0.9075\n",
            "Epoch 71/100\n",
            "10/10 [==============================] - 0s 19ms/step - loss: 0.1795 - acc: 0.9361 - val_loss: 0.3740 - val_acc: 0.9093\n",
            "Epoch 72/100\n",
            "10/10 [==============================] - 0s 18ms/step - loss: 0.1969 - acc: 0.9331 - val_loss: 0.3724 - val_acc: 0.9065\n",
            "Epoch 73/100\n",
            "10/10 [==============================] - 0s 18ms/step - loss: 0.1712 - acc: 0.9357 - val_loss: 0.3921 - val_acc: 0.9065\n",
            "Epoch 74/100\n",
            "10/10 [==============================] - 0s 19ms/step - loss: 0.1811 - acc: 0.9360 - val_loss: 0.3988 - val_acc: 0.8981\n",
            "Epoch 75/100\n",
            "10/10 [==============================] - 0s 19ms/step - loss: 0.2000 - acc: 0.9271 - val_loss: 0.3781 - val_acc: 0.9131\n",
            "Epoch 76/100\n",
            "10/10 [==============================] - 0s 18ms/step - loss: 0.1788 - acc: 0.9315 - val_loss: 0.4124 - val_acc: 0.9037\n",
            "Epoch 77/100\n",
            "10/10 [==============================] - 0s 18ms/step - loss: 0.1843 - acc: 0.9334 - val_loss: 0.3947 - val_acc: 0.9056\n",
            "Epoch 78/100\n",
            "10/10 [==============================] - 0s 19ms/step - loss: 0.1651 - acc: 0.9377 - val_loss: 0.4016 - val_acc: 0.9047\n",
            "Epoch 79/100\n",
            "10/10 [==============================] - 0s 19ms/step - loss: 0.1816 - acc: 0.9344 - val_loss: 0.3765 - val_acc: 0.9009\n",
            "Epoch 80/100\n",
            "10/10 [==============================] - 0s 19ms/step - loss: 0.1710 - acc: 0.9362 - val_loss: 0.3950 - val_acc: 0.9075\n",
            "Epoch 81/100\n",
            "10/10 [==============================] - 0s 18ms/step - loss: 0.1600 - acc: 0.9407 - val_loss: 0.4078 - val_acc: 0.9037\n",
            "Epoch 82/100\n",
            "10/10 [==============================] - 0s 18ms/step - loss: 0.1704 - acc: 0.9354 - val_loss: 0.4039 - val_acc: 0.9009\n",
            "Epoch 83/100\n",
            "10/10 [==============================] - 0s 19ms/step - loss: 0.1736 - acc: 0.9358 - val_loss: 0.3942 - val_acc: 0.9047\n",
            "Epoch 84/100\n",
            "10/10 [==============================] - 0s 18ms/step - loss: 0.1768 - acc: 0.9360 - val_loss: 0.3885 - val_acc: 0.9112\n",
            "Epoch 85/100\n",
            "10/10 [==============================] - 0s 18ms/step - loss: 0.1638 - acc: 0.9402 - val_loss: 0.3969 - val_acc: 0.9075\n",
            "Epoch 86/100\n",
            "10/10 [==============================] - 0s 19ms/step - loss: 0.1476 - acc: 0.9479 - val_loss: 0.4266 - val_acc: 0.9047\n",
            "Epoch 87/100\n",
            "10/10 [==============================] - 0s 19ms/step - loss: 0.1797 - acc: 0.9324 - val_loss: 0.4146 - val_acc: 0.9084\n",
            "Epoch 88/100\n",
            "10/10 [==============================] - 0s 19ms/step - loss: 0.1588 - acc: 0.9395 - val_loss: 0.4016 - val_acc: 0.9140\n",
            "Epoch 89/100\n",
            "10/10 [==============================] - 0s 19ms/step - loss: 0.1482 - acc: 0.9429 - val_loss: 0.4193 - val_acc: 0.9009\n",
            "Epoch 90/100\n",
            "10/10 [==============================] - 0s 18ms/step - loss: 0.1555 - acc: 0.9441 - val_loss: 0.4101 - val_acc: 0.9047\n",
            "Epoch 91/100\n",
            "10/10 [==============================] - 0s 18ms/step - loss: 0.1478 - acc: 0.9490 - val_loss: 0.4061 - val_acc: 0.9065\n",
            "Epoch 92/100\n",
            "10/10 [==============================] - 0s 19ms/step - loss: 0.1301 - acc: 0.9511 - val_loss: 0.4088 - val_acc: 0.9084\n",
            "Epoch 93/100\n",
            "10/10 [==============================] - 0s 19ms/step - loss: 0.1387 - acc: 0.9500 - val_loss: 0.3990 - val_acc: 0.9112\n",
            "Epoch 94/100\n",
            "10/10 [==============================] - 0s 19ms/step - loss: 0.1226 - acc: 0.9515 - val_loss: 0.4335 - val_acc: 0.9075\n",
            "Epoch 95/100\n",
            "10/10 [==============================] - 0s 19ms/step - loss: 0.1305 - acc: 0.9510 - val_loss: 0.4284 - val_acc: 0.9103\n",
            "Epoch 96/100\n",
            "10/10 [==============================] - 0s 19ms/step - loss: 0.1191 - acc: 0.9526 - val_loss: 0.4355 - val_acc: 0.9056\n",
            "Epoch 97/100\n",
            "10/10 [==============================] - 0s 18ms/step - loss: 0.1272 - acc: 0.9525 - val_loss: 0.4522 - val_acc: 0.9084\n",
            "Epoch 98/100\n",
            "10/10 [==============================] - 0s 19ms/step - loss: 0.1268 - acc: 0.9519 - val_loss: 0.4319 - val_acc: 0.9056\n",
            "Epoch 99/100\n",
            "10/10 [==============================] - 0s 19ms/step - loss: 0.1415 - acc: 0.9499 - val_loss: 0.4278 - val_acc: 0.9075\n",
            "Epoch 100/100\n",
            "10/10 [==============================] - 0s 18ms/step - loss: 0.1169 - acc: 0.9585 - val_loss: 0.4151 - val_acc: 0.9065\n"
          ],
          "name": "stdout"
        }
      ]
    },
    {
      "cell_type": "code",
      "metadata": {
        "colab": {
          "base_uri": "https://localhost:8080/",
          "height": 283
        },
        "id": "wRkkbVFxOWgU",
        "outputId": "c3c10a4a-30a0-4bca-94ed-10ad932319fb"
      },
      "source": [
        "import matplotlib.pyplot as plt\n",
        "\n",
        "acuracia_treino = historico.history['acc']\n",
        "acuracia_teste = historico.history['val_acc']\n",
        "\n",
        "epochs = range(1,len(acuracia_treino)+1)\n",
        "\n",
        "plt.plot(epochs,acuracia_treino,'-g',label='Acuracia Dados de Treino')\n",
        "plt.plot(epochs,acuracia_teste,'-b',label='Acuracia Dados de Teste')\n",
        "plt.legend()\n",
        "plt.xlabel('Epochs')\n",
        "plt.ylabel('Acuracia')\n",
        "plt.show()"
      ],
      "execution_count": null,
      "outputs": [
        {
          "output_type": "display_data",
          "data": {
            "image/png": "[encoded data removed]",
            "text/plain": [
              "<Figure size 432x288 with 1 Axes>"
            ]
          },
          "metadata": {
            "tags": [],
            "needs_background": "light"
          }
        }
      ]
    }
  ]
}