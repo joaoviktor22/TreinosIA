{
  "nbformat": 4,
  "nbformat_minor": 0,
  "metadata": {
    "colab": {
      "name": "Teste4.ipynb",
      "provenance": [],
      "collapsed_sections": []
    },
    "kernelspec": {
      "name": "python3",
      "display_name": "Python 3"
    },
    "accelerator": "GPU"
  },
  "cells": [
    {
      "cell_type": "code",
      "metadata": {
        "colab": {
          "base_uri": "https://localhost:8080/"
        },
        "id": "d6283Q6YSyqy",
        "outputId": "af4a795a-8ecf-4bc0-db59-2ab5c63a0aa5"
      },
      "source": [
        "from keras.datasets import mnist\n",
        "(x_treino,y_treino),(x_teste,y_teste) = mnist.load_data()"
      ],
      "execution_count": null,
      "outputs": [
        {
          "output_type": "stream",
          "text": [
            "Downloading data from https://storage.googleapis.com/tensorflow/tf-keras-datasets/mnist.npz\n",
            "11493376/11490434 [==============================] - 0s 0us/step\n"
          ],
          "name": "stdout"
        }
      ]
    },
    {
      "cell_type": "code",
      "metadata": {
        "colab": {
          "base_uri": "https://localhost:8080/"
        },
        "id": "pWzfA72tTCMv",
        "outputId": "ba8ba994-4daa-4801-a9d4-339e5a5651d5"
      },
      "source": [
        "x_treino.shape"
      ],
      "execution_count": null,
      "outputs": [
        {
          "output_type": "execute_result",
          "data": {
            "text/plain": [
              "(60000, 28, 28)"
            ]
          },
          "metadata": {
            "tags": []
          },
          "execution_count": 3
        }
      ]
    },
    {
      "cell_type": "code",
      "metadata": {
        "id": "vp98c7xCTKaS"
      },
      "source": [
        "from keras.utils import to_categorical\n",
        "\n",
        "y_treino = to_categorical(y_treino)\n",
        "y_teste =  to_categorical(y_teste)\n",
        "\n",
        "x_treino = x_treino.reshape(60000,28,28,1)\n",
        "x_teste = x_teste.reshape(10000,28,28,1)"
      ],
      "execution_count": null,
      "outputs": []
    },
    {
      "cell_type": "code",
      "metadata": {
        "id": "vIClZeYkTj-p"
      },
      "source": [
        "from keras.models import Sequential\n",
        "from keras.layers import Dense,Dropout,Conv2D,Flatten,MaxPooling2D\n",
        "\n",
        "modelo = Sequential()\n",
        "modelo.add(Conv2D(filters=32,kernel_size=5,activation='relu',input_shape=(28,28,1)))\n",
        "modelo.add(MaxPooling2D(pool_size = (2,2) , strides = None, padding = 'valid'))\n",
        "modelo.add(Conv2D(filters=64,kernel_size=5,activation='relu'))\n",
        "modelo.add(MaxPooling2D(pool_size = (2,2) , strides = None, padding = 'valid'))\n",
        "modelo.add(Flatten())\n",
        "modelo.add(Dense(80,kernel_initializer='normal',activation='relu'))\n",
        "modelo.add(Dropout(0.2))\n",
        "modelo.add(Dense(10,kernel_initializer='normal',activation='softmax'))"
      ],
      "execution_count": null,
      "outputs": []
    },
    {
      "cell_type": "code",
      "metadata": {
        "id": "YmIGAfw0VMWL"
      },
      "source": [
        "from keras.optimizers import Adam\n",
        "otimizador = Adam()\n",
        "\n",
        "modelo.compile(loss='categorical_crossentropy',optimizer=otimizador,metrics=['acc'])"
      ],
      "execution_count": null,
      "outputs": []
    },
    {
      "cell_type": "code",
      "metadata": {
        "colab": {
          "base_uri": "https://localhost:8080/"
        },
        "id": "6yKJPrOsVf9R",
        "outputId": "48b585fe-1a86-4fe4-fdff-d741b14397f9"
      },
      "source": [
        "historico = modelo.fit(x_treino,y_treino,epochs=10,batch_size=200,validation_data=(x_teste,y_teste),verbose=1)"
      ],
      "execution_count": null,
      "outputs": [
        {
          "output_type": "stream",
          "text": [
            "Epoch 1/10\n",
            "300/300 [==============================] - 2s 4ms/step - loss: 1.8477 - acc: 0.7354 - val_loss: 0.0690 - val_acc: 0.9781\n",
            "Epoch 2/10\n",
            "300/300 [==============================] - 1s 4ms/step - loss: 0.0888 - acc: 0.9729 - val_loss: 0.0450 - val_acc: 0.9863\n",
            "Epoch 3/10\n",
            "300/300 [==============================] - 1s 4ms/step - loss: 0.0611 - acc: 0.9826 - val_loss: 0.0367 - val_acc: 0.9874\n",
            "Epoch 4/10\n",
            "300/300 [==============================] - 1s 4ms/step - loss: 0.0477 - acc: 0.9855 - val_loss: 0.0335 - val_acc: 0.9885\n",
            "Epoch 5/10\n",
            "300/300 [==============================] - 1s 4ms/step - loss: 0.0358 - acc: 0.9886 - val_loss: 0.0277 - val_acc: 0.9916\n",
            "Epoch 6/10\n",
            "300/300 [==============================] - 1s 4ms/step - loss: 0.0301 - acc: 0.9905 - val_loss: 0.0292 - val_acc: 0.9910\n",
            "Epoch 7/10\n",
            "300/300 [==============================] - 1s 4ms/step - loss: 0.0253 - acc: 0.9921 - val_loss: 0.0376 - val_acc: 0.9893\n",
            "Epoch 8/10\n",
            "300/300 [==============================] - 1s 4ms/step - loss: 0.0251 - acc: 0.9921 - val_loss: 0.0334 - val_acc: 0.9899\n",
            "Epoch 9/10\n",
            "300/300 [==============================] - 1s 4ms/step - loss: 0.0206 - acc: 0.9935 - val_loss: 0.0389 - val_acc: 0.9889\n",
            "Epoch 10/10\n",
            "300/300 [==============================] - 1s 4ms/step - loss: 0.0197 - acc: 0.9937 - val_loss: 0.0363 - val_acc: 0.9894\n"
          ],
          "name": "stdout"
        }
      ]
    }
  ]
}