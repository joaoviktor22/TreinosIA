{
  "nbformat": 4,
  "nbformat_minor": 0,
  "metadata": {
    "colab": {
      "name": "kmeansfsi_160127823.ipynb",
      "provenance": [],
      "collapsed_sections": []
    },
    "kernelspec": {
      "display_name": "Python 3",
      "name": "python3"
    },
    "language_info": {
      "name": "python"
    }
  },
  "cells": [
    {
      "cell_type": "markdown",
      "metadata": {
        "id": "wvxUuPpw5lpB"
      },
      "source": [
        "# ***PRÉ-PROCESSAMENTO***"
      ]
    },
    {
      "cell_type": "code",
      "metadata": {
        "id": "I3M-XZOU51h5"
      },
      "source": [
        "import pandas as pd\n",
        "import numpy as np\n",
        "import random as rd\n",
        "import matplotlib.pyplot as plt"
      ],
      "execution_count": null,
      "outputs": []
    },
    {
      "cell_type": "code",
      "metadata": {
        "id": "bTCvEc8r6BvZ"
      },
      "source": [
        "df = pd.read_fwf('SouthGermanCredit.asc')  "
      ],
      "execution_count": null,
      "outputs": []
    },
    {
      "cell_type": "code",
      "metadata": {
        "colab": {
          "base_uri": "https://localhost:8080/",
          "height": 632
        },
        "id": "wDfmfGVm6IpT",
        "outputId": "2f7725fa-d520-4570-d1f4-4ca3953552de"
      },
      "source": [
        "df"
      ],
      "execution_count": null,
      "outputs": [
        {
          "output_type": "execute_result",
          "data": {
            "text/html": [
              "<div>\n",
              "<style scoped>\n",
              "    .dataframe tbody tr th:only-of-type {\n",
              "        vertical-align: middle;\n",
              "    }\n",
              "\n",
              "    .dataframe tbody tr th {\n",
              "        vertical-align: top;\n",
              "    }\n",
              "\n",
              "    .dataframe thead th {\n",
              "        text-align: right;\n",
              "    }\n",
              "</style>\n",
              "<table border=\"1\" class=\"dataframe\">\n",
              "  <thead>\n",
              "    <tr style=\"text-align: right;\">\n",
              "      <th></th>\n",
              "      <th>laufkont laufzeit moral verw hoehe sparkont beszeit</th>\n",
              "      <th>rate</th>\n",
              "      <th>famges</th>\n",
              "      <th>buerge</th>\n",
              "      <th>wohnzeit</th>\n",
              "      <th>verm</th>\n",
              "      <th>alter</th>\n",
              "      <th>weitkred</th>\n",
              "      <th>wohn</th>\n",
              "      <th>bishkred</th>\n",
              "      <th>beruf</th>\n",
              "      <th>pers</th>\n",
              "      <th>telef</th>\n",
              "      <th>gastarb</th>\n",
              "      <th>kredit</th>\n",
              "    </tr>\n",
              "  </thead>\n",
              "  <tbody>\n",
              "    <tr>\n",
              "      <th>0</th>\n",
              "      <td>1 18 4 2 1049 1 2 4 2 1 4 2 21 3 1 1 3 2 1 2 1</td>\n",
              "      <td>NaN</td>\n",
              "      <td>NaN</td>\n",
              "      <td>NaN</td>\n",
              "      <td>NaN</td>\n",
              "      <td>NaN</td>\n",
              "      <td>NaN</td>\n",
              "      <td>NaN</td>\n",
              "      <td>NaN</td>\n",
              "      <td>NaN</td>\n",
              "      <td>NaN</td>\n",
              "      <td>NaN</td>\n",
              "      <td>NaN</td>\n",
              "      <td>NaN</td>\n",
              "      <td>NaN</td>\n",
              "    </tr>\n",
              "    <tr>\n",
              "      <th>1</th>\n",
              "      <td>1 9 4 0 2799 1 3 2 3 1 2 1 36 3 1 2 3 1 1 2 1</td>\n",
              "      <td>NaN</td>\n",
              "      <td>NaN</td>\n",
              "      <td>NaN</td>\n",
              "      <td>NaN</td>\n",
              "      <td>NaN</td>\n",
              "      <td>NaN</td>\n",
              "      <td>NaN</td>\n",
              "      <td>NaN</td>\n",
              "      <td>NaN</td>\n",
              "      <td>NaN</td>\n",
              "      <td>NaN</td>\n",
              "      <td>NaN</td>\n",
              "      <td>NaN</td>\n",
              "      <td>NaN</td>\n",
              "    </tr>\n",
              "    <tr>\n",
              "      <th>2</th>\n",
              "      <td>2 12 2 9 841 2 4 2 2 1 4 1 23 3 1 1 2 2 1 2 1</td>\n",
              "      <td>NaN</td>\n",
              "      <td>NaN</td>\n",
              "      <td>NaN</td>\n",
              "      <td>NaN</td>\n",
              "      <td>NaN</td>\n",
              "      <td>NaN</td>\n",
              "      <td>NaN</td>\n",
              "      <td>NaN</td>\n",
              "      <td>NaN</td>\n",
              "      <td>NaN</td>\n",
              "      <td>NaN</td>\n",
              "      <td>NaN</td>\n",
              "      <td>NaN</td>\n",
              "      <td>NaN</td>\n",
              "    </tr>\n",
              "    <tr>\n",
              "      <th>3</th>\n",
              "      <td>1 12 4 0 2122 1 3 3 3 1 2 1 39 3 1 2 2 1 1 1 1</td>\n",
              "      <td>NaN</td>\n",
              "      <td>NaN</td>\n",
              "      <td>NaN</td>\n",
              "      <td>NaN</td>\n",
              "      <td>NaN</td>\n",
              "      <td>NaN</td>\n",
              "      <td>NaN</td>\n",
              "      <td>NaN</td>\n",
              "      <td>NaN</td>\n",
              "      <td>NaN</td>\n",
              "      <td>NaN</td>\n",
              "      <td>NaN</td>\n",
              "      <td>NaN</td>\n",
              "      <td>NaN</td>\n",
              "    </tr>\n",
              "    <tr>\n",
              "      <th>4</th>\n",
              "      <td>1 12 4 0 2171 1 3 4 3 1 4 2 38 1 2 2 2 2 1 1 1</td>\n",
              "      <td>NaN</td>\n",
              "      <td>NaN</td>\n",
              "      <td>NaN</td>\n",
              "      <td>NaN</td>\n",
              "      <td>NaN</td>\n",
              "      <td>NaN</td>\n",
              "      <td>NaN</td>\n",
              "      <td>NaN</td>\n",
              "      <td>NaN</td>\n",
              "      <td>NaN</td>\n",
              "      <td>NaN</td>\n",
              "      <td>NaN</td>\n",
              "      <td>NaN</td>\n",
              "      <td>NaN</td>\n",
              "    </tr>\n",
              "    <tr>\n",
              "      <th>...</th>\n",
              "      <td>...</td>\n",
              "      <td>...</td>\n",
              "      <td>...</td>\n",
              "      <td>...</td>\n",
              "      <td>...</td>\n",
              "      <td>...</td>\n",
              "      <td>...</td>\n",
              "      <td>...</td>\n",
              "      <td>...</td>\n",
              "      <td>...</td>\n",
              "      <td>...</td>\n",
              "      <td>...</td>\n",
              "      <td>...</td>\n",
              "      <td>...</td>\n",
              "      <td>...</td>\n",
              "    </tr>\n",
              "    <tr>\n",
              "      <th>995</th>\n",
              "      <td>1 24 2 3 1987 1 3 2 3 1 4 1 21 3 1 1 2 1 1 2 0</td>\n",
              "      <td>NaN</td>\n",
              "      <td>NaN</td>\n",
              "      <td>NaN</td>\n",
              "      <td>NaN</td>\n",
              "      <td>NaN</td>\n",
              "      <td>NaN</td>\n",
              "      <td>NaN</td>\n",
              "      <td>NaN</td>\n",
              "      <td>NaN</td>\n",
              "      <td>NaN</td>\n",
              "      <td>NaN</td>\n",
              "      <td>NaN</td>\n",
              "      <td>NaN</td>\n",
              "      <td>NaN</td>\n",
              "    </tr>\n",
              "    <tr>\n",
              "      <th>996</th>\n",
              "      <td>1 24 2 0 2303 1 5 4 3 2 1 1 45 3 2 1 3 2 1 2 0</td>\n",
              "      <td>NaN</td>\n",
              "      <td>NaN</td>\n",
              "      <td>NaN</td>\n",
              "      <td>NaN</td>\n",
              "      <td>NaN</td>\n",
              "      <td>NaN</td>\n",
              "      <td>NaN</td>\n",
              "      <td>NaN</td>\n",
              "      <td>NaN</td>\n",
              "      <td>NaN</td>\n",
              "      <td>NaN</td>\n",
              "      <td>NaN</td>\n",
              "      <td>NaN</td>\n",
              "      <td>NaN</td>\n",
              "    </tr>\n",
              "    <tr>\n",
              "      <th>997</th>\n",
              "      <td>4 21 4 0 12680 5 5 4 3 1 4 4 30 3 3 1 4 2 2 2 0</td>\n",
              "      <td>NaN</td>\n",
              "      <td>NaN</td>\n",
              "      <td>NaN</td>\n",
              "      <td>NaN</td>\n",
              "      <td>NaN</td>\n",
              "      <td>NaN</td>\n",
              "      <td>NaN</td>\n",
              "      <td>NaN</td>\n",
              "      <td>NaN</td>\n",
              "      <td>NaN</td>\n",
              "      <td>NaN</td>\n",
              "      <td>NaN</td>\n",
              "      <td>NaN</td>\n",
              "      <td>NaN</td>\n",
              "    </tr>\n",
              "    <tr>\n",
              "      <th>998</th>\n",
              "      <td>2 12 2 3 6468 5 1 2 3 1 1 4 52 3 2 1 4 2 2 2 0</td>\n",
              "      <td>NaN</td>\n",
              "      <td>NaN</td>\n",
              "      <td>NaN</td>\n",
              "      <td>NaN</td>\n",
              "      <td>NaN</td>\n",
              "      <td>NaN</td>\n",
              "      <td>NaN</td>\n",
              "      <td>NaN</td>\n",
              "      <td>NaN</td>\n",
              "      <td>NaN</td>\n",
              "      <td>NaN</td>\n",
              "      <td>NaN</td>\n",
              "      <td>NaN</td>\n",
              "      <td>NaN</td>\n",
              "    </tr>\n",
              "    <tr>\n",
              "      <th>999</th>\n",
              "      <td>1 30 2 2 6350 5 5 4 3 1 4 2 31 3 2 1 3 2 1 2 0</td>\n",
              "      <td>NaN</td>\n",
              "      <td>NaN</td>\n",
              "      <td>NaN</td>\n",
              "      <td>NaN</td>\n",
              "      <td>NaN</td>\n",
              "      <td>NaN</td>\n",
              "      <td>NaN</td>\n",
              "      <td>NaN</td>\n",
              "      <td>NaN</td>\n",
              "      <td>NaN</td>\n",
              "      <td>NaN</td>\n",
              "      <td>NaN</td>\n",
              "      <td>NaN</td>\n",
              "      <td>NaN</td>\n",
              "    </tr>\n",
              "  </tbody>\n",
              "</table>\n",
              "<p>1000 rows × 15 columns</p>\n",
              "</div>"
            ],
            "text/plain": [
              "    laufkont laufzeit moral verw hoehe sparkont beszeit  rate  ...  gastarb  kredit\n",
              "0       1 18 4 2 1049 1 2 4 2 1 4 2 21 3 1 1 3 2 1 2 1    NaN  ...      NaN     NaN\n",
              "1        1 9 4 0 2799 1 3 2 3 1 2 1 36 3 1 2 3 1 1 2 1    NaN  ...      NaN     NaN\n",
              "2        2 12 2 9 841 2 4 2 2 1 4 1 23 3 1 1 2 2 1 2 1    NaN  ...      NaN     NaN\n",
              "3       1 12 4 0 2122 1 3 3 3 1 2 1 39 3 1 2 2 1 1 1 1    NaN  ...      NaN     NaN\n",
              "4       1 12 4 0 2171 1 3 4 3 1 4 2 38 1 2 2 2 2 1 1 1    NaN  ...      NaN     NaN\n",
              "..                                                 ...    ...  ...      ...     ...\n",
              "995     1 24 2 3 1987 1 3 2 3 1 4 1 21 3 1 1 2 1 1 2 0    NaN  ...      NaN     NaN\n",
              "996     1 24 2 0 2303 1 5 4 3 2 1 1 45 3 2 1 3 2 1 2 0    NaN  ...      NaN     NaN\n",
              "997    4 21 4 0 12680 5 5 4 3 1 4 4 30 3 3 1 4 2 2 2 0    NaN  ...      NaN     NaN\n",
              "998     2 12 2 3 6468 5 1 2 3 1 1 4 52 3 2 1 4 2 2 2 0    NaN  ...      NaN     NaN\n",
              "999     1 30 2 2 6350 5 5 4 3 1 4 2 31 3 2 1 3 2 1 2 0    NaN  ...      NaN     NaN\n",
              "\n",
              "[1000 rows x 15 columns]"
            ]
          },
          "metadata": {},
          "execution_count": 3
        }
      ]
    },
    {
      "cell_type": "code",
      "metadata": {
        "id": "fXxr70kP7K9o"
      },
      "source": [
        "import codecs\n",
        "w, h = 1000, 21\n",
        "matrix = [[0]*22 for i in range(1001)]\n",
        "j = 0\n",
        "with codecs.open('SouthGermanCredit.asc', encoding='utf-8') as f:\n",
        "    for line in f:\n",
        "        linha = line.split()\n",
        "        k = 0\n",
        "        for i in linha:\n",
        "          matrix[j][k] = i\n",
        "          k = k + 1\n",
        "        j = j + 1"
      ],
      "execution_count": null,
      "outputs": []
    },
    {
      "cell_type": "code",
      "metadata": {
        "id": "9x4kihBF9upz"
      },
      "source": [
        "df = pd.DataFrame(matrix)\n",
        "new_header = df.iloc[0] #grab the first row for the header\n",
        "df = df[1:] #take the data less the header row\n",
        "df.columns = new_header #set the header row as the df header\n",
        "df = df.drop(columns=[0])"
      ],
      "execution_count": null,
      "outputs": []
    },
    {
      "cell_type": "code",
      "metadata": {
        "colab": {
          "base_uri": "https://localhost:8080/",
          "height": 444
        },
        "id": "ueyOppPC_Nut",
        "outputId": "1484322a-f495-4b00-cbcb-5dca06b54a84"
      },
      "source": [
        "df"
      ],
      "execution_count": null,
      "outputs": [
        {
          "output_type": "execute_result",
          "data": {
            "text/html": [
              "<div>\n",
              "<style scoped>\n",
              "    .dataframe tbody tr th:only-of-type {\n",
              "        vertical-align: middle;\n",
              "    }\n",
              "\n",
              "    .dataframe tbody tr th {\n",
              "        vertical-align: top;\n",
              "    }\n",
              "\n",
              "    .dataframe thead th {\n",
              "        text-align: right;\n",
              "    }\n",
              "</style>\n",
              "<table border=\"1\" class=\"dataframe\">\n",
              "  <thead>\n",
              "    <tr style=\"text-align: right;\">\n",
              "      <th></th>\n",
              "      <th>laufkont</th>\n",
              "      <th>laufzeit</th>\n",
              "      <th>moral</th>\n",
              "      <th>verw</th>\n",
              "      <th>hoehe</th>\n",
              "      <th>sparkont</th>\n",
              "      <th>beszeit</th>\n",
              "      <th>rate</th>\n",
              "      <th>famges</th>\n",
              "      <th>buerge</th>\n",
              "      <th>wohnzeit</th>\n",
              "      <th>verm</th>\n",
              "      <th>alter</th>\n",
              "      <th>weitkred</th>\n",
              "      <th>wohn</th>\n",
              "      <th>bishkred</th>\n",
              "      <th>beruf</th>\n",
              "      <th>pers</th>\n",
              "      <th>telef</th>\n",
              "      <th>gastarb</th>\n",
              "      <th>kredit</th>\n",
              "    </tr>\n",
              "  </thead>\n",
              "  <tbody>\n",
              "    <tr>\n",
              "      <th>1</th>\n",
              "      <td>1</td>\n",
              "      <td>18</td>\n",
              "      <td>4</td>\n",
              "      <td>2</td>\n",
              "      <td>1049</td>\n",
              "      <td>1</td>\n",
              "      <td>2</td>\n",
              "      <td>4</td>\n",
              "      <td>2</td>\n",
              "      <td>1</td>\n",
              "      <td>4</td>\n",
              "      <td>2</td>\n",
              "      <td>21</td>\n",
              "      <td>3</td>\n",
              "      <td>1</td>\n",
              "      <td>1</td>\n",
              "      <td>3</td>\n",
              "      <td>2</td>\n",
              "      <td>1</td>\n",
              "      <td>2</td>\n",
              "      <td>1</td>\n",
              "    </tr>\n",
              "    <tr>\n",
              "      <th>2</th>\n",
              "      <td>1</td>\n",
              "      <td>9</td>\n",
              "      <td>4</td>\n",
              "      <td>0</td>\n",
              "      <td>2799</td>\n",
              "      <td>1</td>\n",
              "      <td>3</td>\n",
              "      <td>2</td>\n",
              "      <td>3</td>\n",
              "      <td>1</td>\n",
              "      <td>2</td>\n",
              "      <td>1</td>\n",
              "      <td>36</td>\n",
              "      <td>3</td>\n",
              "      <td>1</td>\n",
              "      <td>2</td>\n",
              "      <td>3</td>\n",
              "      <td>1</td>\n",
              "      <td>1</td>\n",
              "      <td>2</td>\n",
              "      <td>1</td>\n",
              "    </tr>\n",
              "    <tr>\n",
              "      <th>3</th>\n",
              "      <td>2</td>\n",
              "      <td>12</td>\n",
              "      <td>2</td>\n",
              "      <td>9</td>\n",
              "      <td>841</td>\n",
              "      <td>2</td>\n",
              "      <td>4</td>\n",
              "      <td>2</td>\n",
              "      <td>2</td>\n",
              "      <td>1</td>\n",
              "      <td>4</td>\n",
              "      <td>1</td>\n",
              "      <td>23</td>\n",
              "      <td>3</td>\n",
              "      <td>1</td>\n",
              "      <td>1</td>\n",
              "      <td>2</td>\n",
              "      <td>2</td>\n",
              "      <td>1</td>\n",
              "      <td>2</td>\n",
              "      <td>1</td>\n",
              "    </tr>\n",
              "    <tr>\n",
              "      <th>4</th>\n",
              "      <td>1</td>\n",
              "      <td>12</td>\n",
              "      <td>4</td>\n",
              "      <td>0</td>\n",
              "      <td>2122</td>\n",
              "      <td>1</td>\n",
              "      <td>3</td>\n",
              "      <td>3</td>\n",
              "      <td>3</td>\n",
              "      <td>1</td>\n",
              "      <td>2</td>\n",
              "      <td>1</td>\n",
              "      <td>39</td>\n",
              "      <td>3</td>\n",
              "      <td>1</td>\n",
              "      <td>2</td>\n",
              "      <td>2</td>\n",
              "      <td>1</td>\n",
              "      <td>1</td>\n",
              "      <td>1</td>\n",
              "      <td>1</td>\n",
              "    </tr>\n",
              "    <tr>\n",
              "      <th>5</th>\n",
              "      <td>1</td>\n",
              "      <td>12</td>\n",
              "      <td>4</td>\n",
              "      <td>0</td>\n",
              "      <td>2171</td>\n",
              "      <td>1</td>\n",
              "      <td>3</td>\n",
              "      <td>4</td>\n",
              "      <td>3</td>\n",
              "      <td>1</td>\n",
              "      <td>4</td>\n",
              "      <td>2</td>\n",
              "      <td>38</td>\n",
              "      <td>1</td>\n",
              "      <td>2</td>\n",
              "      <td>2</td>\n",
              "      <td>2</td>\n",
              "      <td>2</td>\n",
              "      <td>1</td>\n",
              "      <td>1</td>\n",
              "      <td>1</td>\n",
              "    </tr>\n",
              "    <tr>\n",
              "      <th>...</th>\n",
              "      <td>...</td>\n",
              "      <td>...</td>\n",
              "      <td>...</td>\n",
              "      <td>...</td>\n",
              "      <td>...</td>\n",
              "      <td>...</td>\n",
              "      <td>...</td>\n",
              "      <td>...</td>\n",
              "      <td>...</td>\n",
              "      <td>...</td>\n",
              "      <td>...</td>\n",
              "      <td>...</td>\n",
              "      <td>...</td>\n",
              "      <td>...</td>\n",
              "      <td>...</td>\n",
              "      <td>...</td>\n",
              "      <td>...</td>\n",
              "      <td>...</td>\n",
              "      <td>...</td>\n",
              "      <td>...</td>\n",
              "      <td>...</td>\n",
              "    </tr>\n",
              "    <tr>\n",
              "      <th>996</th>\n",
              "      <td>1</td>\n",
              "      <td>24</td>\n",
              "      <td>2</td>\n",
              "      <td>3</td>\n",
              "      <td>1987</td>\n",
              "      <td>1</td>\n",
              "      <td>3</td>\n",
              "      <td>2</td>\n",
              "      <td>3</td>\n",
              "      <td>1</td>\n",
              "      <td>4</td>\n",
              "      <td>1</td>\n",
              "      <td>21</td>\n",
              "      <td>3</td>\n",
              "      <td>1</td>\n",
              "      <td>1</td>\n",
              "      <td>2</td>\n",
              "      <td>1</td>\n",
              "      <td>1</td>\n",
              "      <td>2</td>\n",
              "      <td>0</td>\n",
              "    </tr>\n",
              "    <tr>\n",
              "      <th>997</th>\n",
              "      <td>1</td>\n",
              "      <td>24</td>\n",
              "      <td>2</td>\n",
              "      <td>0</td>\n",
              "      <td>2303</td>\n",
              "      <td>1</td>\n",
              "      <td>5</td>\n",
              "      <td>4</td>\n",
              "      <td>3</td>\n",
              "      <td>2</td>\n",
              "      <td>1</td>\n",
              "      <td>1</td>\n",
              "      <td>45</td>\n",
              "      <td>3</td>\n",
              "      <td>2</td>\n",
              "      <td>1</td>\n",
              "      <td>3</td>\n",
              "      <td>2</td>\n",
              "      <td>1</td>\n",
              "      <td>2</td>\n",
              "      <td>0</td>\n",
              "    </tr>\n",
              "    <tr>\n",
              "      <th>998</th>\n",
              "      <td>4</td>\n",
              "      <td>21</td>\n",
              "      <td>4</td>\n",
              "      <td>0</td>\n",
              "      <td>12680</td>\n",
              "      <td>5</td>\n",
              "      <td>5</td>\n",
              "      <td>4</td>\n",
              "      <td>3</td>\n",
              "      <td>1</td>\n",
              "      <td>4</td>\n",
              "      <td>4</td>\n",
              "      <td>30</td>\n",
              "      <td>3</td>\n",
              "      <td>3</td>\n",
              "      <td>1</td>\n",
              "      <td>4</td>\n",
              "      <td>2</td>\n",
              "      <td>2</td>\n",
              "      <td>2</td>\n",
              "      <td>0</td>\n",
              "    </tr>\n",
              "    <tr>\n",
              "      <th>999</th>\n",
              "      <td>2</td>\n",
              "      <td>12</td>\n",
              "      <td>2</td>\n",
              "      <td>3</td>\n",
              "      <td>6468</td>\n",
              "      <td>5</td>\n",
              "      <td>1</td>\n",
              "      <td>2</td>\n",
              "      <td>3</td>\n",
              "      <td>1</td>\n",
              "      <td>1</td>\n",
              "      <td>4</td>\n",
              "      <td>52</td>\n",
              "      <td>3</td>\n",
              "      <td>2</td>\n",
              "      <td>1</td>\n",
              "      <td>4</td>\n",
              "      <td>2</td>\n",
              "      <td>2</td>\n",
              "      <td>2</td>\n",
              "      <td>0</td>\n",
              "    </tr>\n",
              "    <tr>\n",
              "      <th>1000</th>\n",
              "      <td>1</td>\n",
              "      <td>30</td>\n",
              "      <td>2</td>\n",
              "      <td>2</td>\n",
              "      <td>6350</td>\n",
              "      <td>5</td>\n",
              "      <td>5</td>\n",
              "      <td>4</td>\n",
              "      <td>3</td>\n",
              "      <td>1</td>\n",
              "      <td>4</td>\n",
              "      <td>2</td>\n",
              "      <td>31</td>\n",
              "      <td>3</td>\n",
              "      <td>2</td>\n",
              "      <td>1</td>\n",
              "      <td>3</td>\n",
              "      <td>2</td>\n",
              "      <td>1</td>\n",
              "      <td>2</td>\n",
              "      <td>0</td>\n",
              "    </tr>\n",
              "  </tbody>\n",
              "</table>\n",
              "<p>1000 rows × 21 columns</p>\n",
              "</div>"
            ],
            "text/plain": [
              "0    laufkont laufzeit moral verw  hoehe  ... beruf pers telef gastarb kredit\n",
              "1           1       18     4    2   1049  ...     3    2     1       2      1\n",
              "2           1        9     4    0   2799  ...     3    1     1       2      1\n",
              "3           2       12     2    9    841  ...     2    2     1       2      1\n",
              "4           1       12     4    0   2122  ...     2    1     1       1      1\n",
              "5           1       12     4    0   2171  ...     2    2     1       1      1\n",
              "...       ...      ...   ...  ...    ...  ...   ...  ...   ...     ...    ...\n",
              "996         1       24     2    3   1987  ...     2    1     1       2      0\n",
              "997         1       24     2    0   2303  ...     3    2     1       2      0\n",
              "998         4       21     4    0  12680  ...     4    2     2       2      0\n",
              "999         2       12     2    3   6468  ...     4    2     2       2      0\n",
              "1000        1       30     2    2   6350  ...     3    2     1       2      0\n",
              "\n",
              "[1000 rows x 21 columns]"
            ]
          },
          "metadata": {},
          "execution_count": 6
        }
      ]
    },
    {
      "cell_type": "code",
      "metadata": {
        "colab": {
          "base_uri": "https://localhost:8080/"
        },
        "id": "xg3syCb8CAh-",
        "outputId": "ac4b0ef9-dcf2-408c-d436-daf54dd3c5cd"
      },
      "source": [
        "valores = df.values\n",
        "valores"
      ],
      "execution_count": null,
      "outputs": [
        {
          "output_type": "execute_result",
          "data": {
            "text/plain": [
              "array([['1', '18', '4', ..., '1', '2', '1'],\n",
              "       ['1', '9', '4', ..., '1', '2', '1'],\n",
              "       ['2', '12', '2', ..., '1', '2', '1'],\n",
              "       ...,\n",
              "       ['4', '21', '4', ..., '2', '2', '0'],\n",
              "       ['2', '12', '2', ..., '2', '2', '0'],\n",
              "       ['1', '30', '2', ..., '1', '2', '0']], dtype=object)"
            ]
          },
          "metadata": {},
          "execution_count": 7
        }
      ]
    },
    {
      "cell_type": "code",
      "metadata": {
        "colab": {
          "base_uri": "https://localhost:8080/"
        },
        "id": "L-y7jZh4Fn8r",
        "outputId": "ee402da6-39c6-4013-b3c6-f5442938aba6"
      },
      "source": [
        "valores = valores.astype(float)\n",
        "valores"
      ],
      "execution_count": null,
      "outputs": [
        {
          "output_type": "execute_result",
          "data": {
            "text/plain": [
              "array([[ 1., 18.,  4., ...,  1.,  2.,  1.],\n",
              "       [ 1.,  9.,  4., ...,  1.,  2.,  1.],\n",
              "       [ 2., 12.,  2., ...,  1.,  2.,  1.],\n",
              "       ...,\n",
              "       [ 4., 21.,  4., ...,  2.,  2.,  0.],\n",
              "       [ 2., 12.,  2., ...,  2.,  2.,  0.],\n",
              "       [ 1., 30.,  2., ...,  1.,  2.,  0.]])"
            ]
          },
          "metadata": {},
          "execution_count": 8
        }
      ]
    },
    {
      "cell_type": "markdown",
      "metadata": {
        "id": "aIsEK6EJ53NA"
      },
      "source": [
        "# ***FUNÇÕES PARA FAZER KMEAN E CALCULAR SILHUETE(ALGUMAS NAO FORAM USADAS POR SER DE TESTE)***"
      ]
    },
    {
      "cell_type": "code",
      "metadata": {
        "id": "tuPdBZLnKSOB"
      },
      "source": [
        "def calc_distance(X1, X2):\n",
        "    return(sum((X1 - X2)**2))**0.5"
      ],
      "execution_count": null,
      "outputs": []
    },
    {
      "cell_type": "code",
      "metadata": {
        "id": "wd6r5PZeKT1g"
      },
      "source": [
        "def findClosestCentroides(ic, X):\n",
        "    assigned_centroid = []\n",
        "    for i in X:\n",
        "        distance=[]\n",
        "        for j in ic:\n",
        "            distance.append(calc_distance(i, j))\n",
        "        assigned_centroid.append(np.argmin(distance))\n",
        "    return assigned_centroid"
      ],
      "execution_count": null,
      "outputs": []
    },
    {
      "cell_type": "code",
      "metadata": {
        "id": "9Dsn30-sKMsF"
      },
      "source": [
        "def calc_centroides(clusters, X):\n",
        "    new_centroids = []\n",
        "    new_df = pd.concat([pd.DataFrame(X), pd.DataFrame(clusters, columns=['cluster'])],\n",
        "                      axis=1)\n",
        "    for c in set(new_df['cluster']):\n",
        "        current_cluster = new_df[new_df['cluster'] == c][new_df.columns[:-1]]\n",
        "        cluster_mean = current_cluster.mean(axis=0)\n",
        "        new_centroids.append(cluster_mean)\n",
        "    return new_centroids"
      ],
      "execution_count": null,
      "outputs": []
    },
    {
      "cell_type": "code",
      "metadata": {
        "id": "t_0zNC4f8pVT"
      },
      "source": [
        "def kmean(X,Centroids,K,n_iter):\n",
        "  for i in range(n_iter):\n",
        "      EuclidianDistance=np.array([]).reshape(m,0)\n",
        "      for k in range(K):\n",
        "          tempDist=np.sum((X-Centroids[:,k])**2,axis=1)\n",
        "          EuclidianDistance=np.c_[EuclidianDistance,tempDist]\n",
        "      C=np.argmin(EuclidianDistance,axis=1)+1\n",
        "      Y={}\n",
        "      for k in range(K):\n",
        "          Y[k+1]=np.array([]).reshape(n,0)\n",
        "      for i in range(m):\n",
        "          Y[C[i]]=np.c_[Y[C[i]],X[i]]\n",
        "      for k in range(K):\n",
        "          Y[k+1]=Y[k+1].T\n",
        "      for k in range(K):\n",
        "          Centroids[:,k]=np.mean(Y[k+1],axis=0)\n",
        "      Output=Y\n",
        "  return Output"
      ],
      "execution_count": null,
      "outputs": []
    },
    {
      "cell_type": "code",
      "metadata": {
        "id": "cBKxmyQpV28V"
      },
      "source": [
        "def nearest_calc_sih(valores,centroides,i):\n",
        "    label = centroides[i]\n",
        "    #print(label)\n",
        "    b = np.min(\n",
        "            [np.mean(\n",
        "                [euclidian_distancia(valores[i], valores[j]) for j in np.where(centroides == cur_label)[0]]\n",
        "            ) for cur_label in set((centroides.flatten())) if not cur_label == label])\n",
        "    return b"
      ],
      "execution_count": null,
      "outputs": []
    },
    {
      "cell_type": "code",
      "metadata": {
        "id": "sR5QdyN3V3fi"
      },
      "source": [
        "def intra_calc_sih(valores,centroides,i):\n",
        "    indices = np.where(centroides == centroides[i])[0]\n",
        "    if len(indices) == 0:\n",
        "        return 0.\n",
        "    a = np.nanmean([euclidian_distancia(valores[i], valores[j]) for j in indices if not i == j])\n",
        "    return a"
      ],
      "execution_count": null,
      "outputs": []
    },
    {
      "cell_type": "code",
      "metadata": {
        "id": "RqiWzZUqX8el"
      },
      "source": [
        "def euclidian_distancia(a,b):\n",
        "  return np.sqrt(np.sum(np.square(a-b)))"
      ],
      "execution_count": null,
      "outputs": []
    },
    {
      "cell_type": "code",
      "metadata": {
        "id": "RuiTmZUHUTe2"
      },
      "source": [
        "def calc_silhuete(valores, centroide):#labels = centroides,X = valores\n",
        "    n = centroide.shape[0]\n",
        "    A = np.array([intra_calc_sih(valores, centroide, i)\n",
        "                  for i in range(n)])\n",
        "    B = np.array([nearest_calc_sih(valores, centroide, i)\n",
        "                  for i in range(n)])\n",
        "    sil_samples = (B - A) / np.maximum(A, B)\n",
        "    return np.nan_to_num(sil_samples)"
      ],
      "execution_count": null,
      "outputs": []
    },
    {
      "cell_type": "code",
      "metadata": {
        "id": "Ul1NOKWK7kAZ"
      },
      "source": [
        "def calcular_silhuete(valores,centroide):\n",
        "    return np.mean(calc_silhuete(valores, centroide))"
      ],
      "execution_count": null,
      "outputs": []
    },
    {
      "cell_type": "markdown",
      "metadata": {
        "id": "G_HpEENk8o6E"
      },
      "source": [
        "# CALCULANDO KMEANS PARA 10 K DIFERENTES***"
      ]
    },
    {
      "cell_type": "code",
      "metadata": {
        "id": "4FEwQV1aq-Kl"
      },
      "source": [
        "iter = 200\n",
        "m = valores.shape[0]\n",
        "n = valores.shape[1]"
      ],
      "execution_count": null,
      "outputs": []
    },
    {
      "cell_type": "code",
      "metadata": {
        "colab": {
          "base_uri": "https://localhost:8080/"
        },
        "id": "hyVMFH8ZrHBo",
        "outputId": "f2633bdd-d5f6-4d0f-af60-1cd5baa8967c"
      },
      "source": [
        "valores.shape"
      ],
      "execution_count": null,
      "outputs": [
        {
          "output_type": "execute_result",
          "data": {
            "text/plain": [
              "(1000, 21)"
            ]
          },
          "metadata": {},
          "execution_count": 19
        }
      ]
    },
    {
      "cell_type": "code",
      "metadata": {
        "id": "-hl7wMZHuZsR"
      },
      "source": [
        "valores_sil = []\n",
        "valores_k = []"
      ],
      "execution_count": null,
      "outputs": []
    },
    {
      "cell_type": "code",
      "metadata": {
        "colab": {
          "base_uri": "https://localhost:8080/"
        },
        "id": "LW3lG2L49lX_",
        "outputId": "d4d226b7-825e-4b78-a154-614a960eb3e6"
      },
      "source": [
        "Centroids = np.array([]).reshape(n,0)\n",
        "Centroids.shape"
      ],
      "execution_count": null,
      "outputs": [
        {
          "output_type": "execute_result",
          "data": {
            "text/plain": [
              "(21, 0)"
            ]
          },
          "metadata": {},
          "execution_count": 21
        }
      ]
    },
    {
      "cell_type": "code",
      "metadata": {
        "id": "09aSAsqdNItV"
      },
      "source": [
        "K = 2\n",
        "Centroids = np.array([]).reshape(n,0)\n",
        "for i in range(K):\n",
        "    rand=rd.randint(0,m-1)\n",
        "    Centroids=np.c_[Centroids,valores[rand]]\n",
        "Centroids\n",
        "centroids = kmean(valores,Centroids,K,iter)\n",
        "clusters = []\n",
        "for k in valores:\n",
        "  for i in range(1, K+1):\n",
        "    for j in range(0,centroids[i].shape[0]):\n",
        "      if(np.allclose(centroids[i][j],k)):\n",
        "        clusters.append(i-1)\n",
        "clusters = np.asarray(clusters)\n",
        "valor = calcular_silhuete(valores,clusters)\n",
        "valores_sil.append(valor)\n",
        "valores_k.append(K)"
      ],
      "execution_count": null,
      "outputs": []
    },
    {
      "cell_type": "code",
      "metadata": {
        "id": "-jxaTp_KNMR9"
      },
      "source": [
        "K = 3\n",
        "Centroids = np.array([]).reshape(n,0)\n",
        "for i in range(K):\n",
        "    rand=rd.randint(0,m-1)\n",
        "    Centroids=np.c_[Centroids,valores[rand]]\n",
        "Centroids\n",
        "centroids = kmean(valores,Centroids,K,iter)\n",
        "clusters = []\n",
        "for k in valores:\n",
        "  for i in range(1, K+1):\n",
        "    for j in range(0,centroids[i].shape[0]):\n",
        "      if(np.allclose(centroids[i][j],k)):\n",
        "        clusters.append(i-1)\n",
        "clusters = np.asarray(clusters)\n",
        "valor = calcular_silhuete(valores,clusters)\n",
        "valores_sil.append(valor)\n",
        "valores_k.append(K)"
      ],
      "execution_count": null,
      "outputs": []
    },
    {
      "cell_type": "code",
      "metadata": {
        "id": "KWgfvc2rNWdN"
      },
      "source": [
        "K = 4\n",
        "Centroids = np.array([]).reshape(n,0)\n",
        "for i in range(K):\n",
        "    rand=rd.randint(0,m-1)\n",
        "    Centroids=np.c_[Centroids,valores[rand]]\n",
        "Centroids\n",
        "centroids = kmean(valores,Centroids,K,iter)\n",
        "clusters = []\n",
        "for k in valores:\n",
        "  for i in range(1, K+1):\n",
        "    for j in range(0,centroids[i].shape[0]):\n",
        "      if(np.allclose(centroids[i][j],k)):\n",
        "        clusters.append(i-1)\n",
        "clusters = np.asarray(clusters)\n",
        "valor = calcular_silhuete(valores,clusters)\n",
        "valores_sil.append(valor)\n",
        "valores_k.append(K)"
      ],
      "execution_count": null,
      "outputs": []
    },
    {
      "cell_type": "code",
      "metadata": {
        "id": "Y4vTVLdEJACP"
      },
      "source": [
        "K = 5\n",
        "Centroids = np.array([]).reshape(n,0)\n",
        "for i in range(K):\n",
        "    rand=rd.randint(0,m-1)\n",
        "    Centroids=np.c_[Centroids,valores[rand]]\n",
        "Centroids\n",
        "centroids = kmean(valores,Centroids,K,iter)\n",
        "clusters = []\n",
        "for k in valores:\n",
        "  for i in range(1, K+1):\n",
        "    for j in range(0,centroids[i].shape[0]):\n",
        "      if(np.allclose(centroids[i][j],k)):\n",
        "        clusters.append(i-1)\n",
        "clusters = np.asarray(clusters)\n",
        "valor = calcular_silhuete(valores,clusters)\n",
        "valores_sil.append(valor)\n",
        "valores_k.append(K)"
      ],
      "execution_count": null,
      "outputs": []
    },
    {
      "cell_type": "code",
      "metadata": {
        "id": "N68sc0gHNNa0"
      },
      "source": [
        "K = 7\n",
        "Centroids = np.array([]).reshape(n,0)\n",
        "for i in range(K):\n",
        "    rand=rd.randint(0,m-1)\n",
        "    Centroids=np.c_[Centroids,valores[rand]]\n",
        "Centroids\n",
        "centroids = kmean(valores,Centroids,K,iter)\n",
        "clusters = []\n",
        "for k in valores:\n",
        "  for i in range(1, K+1):\n",
        "    for j in range(0,centroids[i].shape[0]):\n",
        "      if(np.allclose(centroids[i][j],k)):\n",
        "        clusters.append(i-1)\n",
        "clusters = np.asarray(clusters)\n",
        "valor = calcular_silhuete(valores,clusters)\n",
        "valores_sil.append(valor)\n",
        "valores_k.append(K)"
      ],
      "execution_count": null,
      "outputs": []
    },
    {
      "cell_type": "code",
      "metadata": {
        "id": "eB04hQVVNPBk"
      },
      "source": [
        "K = 8\n",
        "Centroids = np.array([]).reshape(n,0)\n",
        "for i in range(K):\n",
        "    rand=rd.randint(0,m-1)\n",
        "    Centroids=np.c_[Centroids,valores[rand]]\n",
        "Centroids\n",
        "centroids = kmean(valores,Centroids,K,iter)\n",
        "clusters = []\n",
        "for k in valores:\n",
        "  for i in range(1, K+1):\n",
        "    for j in range(0,centroids[i].shape[0]):\n",
        "      if(np.allclose(centroids[i][j],k)):\n",
        "        clusters.append(i-1)\n",
        "clusters = np.asarray(clusters)\n",
        "valor = calcular_silhuete(valores,clusters)\n",
        "valores_sil.append(valor)\n",
        "valores_k.append(K)"
      ],
      "execution_count": null,
      "outputs": []
    },
    {
      "cell_type": "code",
      "metadata": {
        "id": "pIWTuUa1bNfg"
      },
      "source": [
        "K = 10\n",
        "Centroids = np.array([]).reshape(n,0)\n",
        "for i in range(K):\n",
        "    rand=rd.randint(0,m-1)\n",
        "    Centroids=np.c_[Centroids,valores[rand]]\n",
        "Centroids\n",
        "centroids = kmean(valores,Centroids,K,iter)\n",
        "clusters = []\n",
        "for k in valores:\n",
        "  for i in range(1, K+1):\n",
        "    for j in range(0,centroids[i].shape[0]):\n",
        "      if(np.allclose(centroids[i][j],k)):\n",
        "        clusters.append(i-1)\n",
        "clusters = np.asarray(clusters)\n",
        "valor = calcular_silhuete(valores,clusters)\n",
        "valores_sil.append(valor)\n",
        "valores_k.append(K)"
      ],
      "execution_count": null,
      "outputs": []
    },
    {
      "cell_type": "markdown",
      "metadata": {
        "id": "K7NixQb1cT7K"
      },
      "source": [
        "# ***APARTIR DAKI PODE NAO FUNCIONAR PELO RANDOM***"
      ]
    },
    {
      "cell_type": "code",
      "metadata": {
        "id": "FG9XP1Ucus0F"
      },
      "source": [
        "K = 20\n",
        "Centroids = np.array([]).reshape(n,0)\n",
        "for i in range(K):\n",
        "    rand=rd.randint(0,m-1)\n",
        "    Centroids=np.c_[Centroids,valores[rand]]\n",
        "Centroids\n",
        "centroids = kmean(valores,Centroids,K,iter)\n",
        "clusters = []\n",
        "for k in valores:\n",
        "  for i in range(1, K+1):\n",
        "    for j in range(0,centroids[i].shape[0]):\n",
        "      if(np.allclose(centroids[i][j],k)):\n",
        "        clusters.append(i-1)\n",
        "clusters = np.asarray(clusters)\n",
        "valor = calcular_silhuete(valores,clusters)\n",
        "valores_sil.append(valor)\n",
        "valores_k.append(K)"
      ],
      "execution_count": null,
      "outputs": []
    },
    {
      "cell_type": "code",
      "metadata": {
        "id": "T-OQj_ePuuEy"
      },
      "source": [
        "K = 30\n",
        "Centroids = np.array([]).reshape(n,0)\n",
        "for i in range(K):\n",
        "    rand=rd.randint(0,m-1)\n",
        "    Centroids=np.c_[Centroids,valores[rand]]\n",
        "Centroids\n",
        "centroids = kmean(valores,Centroids,K,iter)\n",
        "clusters = []\n",
        "for k in valores:\n",
        "  for i in range(1, K+1):\n",
        "    for j in range(0,centroids[i].shape[0]):\n",
        "      if(np.allclose(centroids[i][j],k)):\n",
        "        clusters.append(i-1)\n",
        "clusters = np.asarray(clusters)\n",
        "valor = calcular_silhuete(valores,clusters)\n",
        "valores_sil.append(valor)\n",
        "valores_k.append(K)"
      ],
      "execution_count": null,
      "outputs": []
    },
    {
      "cell_type": "code",
      "metadata": {
        "id": "hBjFjdYquyRJ"
      },
      "source": [
        "K = 40\n",
        "Centroids = np.array([]).reshape(n,0)\n",
        "for i in range(K):\n",
        "    rand=rd.randint(0,m-1)\n",
        "    Centroids=np.c_[Centroids,valores[rand]]\n",
        "centroids = kmean(valores,Centroids,K,iter)\n",
        "clusters = []\n",
        "for k in valores:\n",
        "  for i in range(1, K+1):\n",
        "    for j in range(0,centroids[i].shape[0]):\n",
        "      if(np.allclose(centroids[i][j],k)):\n",
        "        clusters.append(i-1)\n",
        "clusters = np.asarray(clusters)\n",
        "valor = calcular_silhuete(valores,clusters)\n",
        "valores_sil.append(valor)\n",
        "valores_k.append(K)"
      ],
      "execution_count": null,
      "outputs": []
    },
    {
      "cell_type": "code",
      "metadata": {
        "colab": {
          "base_uri": "https://localhost:8080/"
        },
        "id": "dphktTmUIioy",
        "outputId": "63162389-7902-4f26-bc14-6496261aeff7"
      },
      "source": [
        "valores_sil"
      ],
      "execution_count": null,
      "outputs": [
        {
          "output_type": "execute_result",
          "data": {
            "text/plain": [
              "[0.7216366892146989,\n",
              " 0.6475682969993047,\n",
              " 0.6118308720036727,\n",
              " 0.5779948516425952,\n",
              " 0.5680423980636713,\n",
              " 0.5400427807516891,\n",
              " 0.571508647983728,\n",
              " 0.5338575246336659,\n",
              " 0.503474229036841,\n",
              " 0.47690257860860535]"
            ]
          },
          "metadata": {},
          "execution_count": 227
        }
      ]
    },
    {
      "cell_type": "code",
      "metadata": {
        "colab": {
          "base_uri": "https://localhost:8080/"
        },
        "id": "pMs3vRsNk3wP",
        "outputId": "331a36c4-625a-4903-8a9f-b6781ca0510e"
      },
      "source": [
        "valores_sil"
      ],
      "execution_count": null,
      "outputs": [
        {
          "output_type": "execute_result",
          "data": {
            "text/plain": [
              "[0.7216366892146989, 0.6475682969993047]"
            ]
          },
          "metadata": {},
          "execution_count": 24
        }
      ]
    },
    {
      "cell_type": "code",
      "metadata": {
        "colab": {
          "base_uri": "https://localhost:8080/"
        },
        "id": "79aF2mgPvE7d",
        "outputId": "bef55ed9-0506-4de4-dcee-1d690d56ede5"
      },
      "source": [
        "valores_k"
      ],
      "execution_count": null,
      "outputs": [
        {
          "output_type": "execute_result",
          "data": {
            "text/plain": [
              "[2, 3, 4, 5, 7, 8, 10, 20, 30, 40]"
            ]
          },
          "metadata": {},
          "execution_count": 228
        }
      ]
    },
    {
      "cell_type": "markdown",
      "metadata": {
        "id": "4Xq7NsiA6EXe"
      },
      "source": [
        "# ***GRAFICO***\n"
      ]
    },
    {
      "cell_type": "code",
      "metadata": {
        "colab": {
          "base_uri": "https://localhost:8080/",
          "height": 513
        },
        "id": "LKeWin89dR7s",
        "outputId": "0d440fd0-f0f7-4610-e6ad-3bb1a6f00ea4"
      },
      "source": [
        "plt.figure(figsize=(16,8))\n",
        "plt.plot(valores_k, valores_sil, 'bx-')\n",
        "plt.xlabel('K')\n",
        "plt.ylabel('Coeficiente de Silhueta')\n",
        "plt.title('Elbow Curve')\n",
        "plt.show()"
      ],
      "execution_count": null,
      "outputs": [
        {
          "output_type": "display_data",
          "data": {
            "image/png": "[encoded data removed]",
            "text/plain": [
              "<Figure size 1152x576 with 1 Axes>"
            ]
          },
          "metadata": {
            "needs_background": "light"
          }
        }
      ]
    },
    {
      "cell_type": "code",
      "metadata": {
        "id": "iRDhYlppeTLJ"
      },
      "source": [
        "from sklearn.preprocessing import StandardScaler\n",
        "valores_ss = StandardScaler().fit_transform(valores)"
      ],
      "execution_count": null,
      "outputs": []
    },
    {
      "cell_type": "code",
      "metadata": {
        "id": "k38ce0YEejpJ"
      },
      "source": [
        "from sklearn.decomposition import PCA\n",
        "pca = PCA(n_components=2)\n",
        "principalComponents = pca.fit_transform(valores_ss)\n",
        "dados2d = pd.DataFrame(data = principalComponents\n",
        "             , columns = ['Feature 1', 'Feature 2'])"
      ],
      "execution_count": null,
      "outputs": []
    },
    {
      "cell_type": "code",
      "metadata": {
        "colab": {
          "base_uri": "https://localhost:8080/",
          "height": 424
        },
        "id": "_ZoJbk8qfRTI",
        "outputId": "527a34ce-0ad2-40e1-834b-4c13cbc37053"
      },
      "source": [
        "dados2d"
      ],
      "execution_count": null,
      "outputs": [
        {
          "output_type": "execute_result",
          "data": {
            "text/html": [
              "<div>\n",
              "<style scoped>\n",
              "    .dataframe tbody tr th:only-of-type {\n",
              "        vertical-align: middle;\n",
              "    }\n",
              "\n",
              "    .dataframe tbody tr th {\n",
              "        vertical-align: top;\n",
              "    }\n",
              "\n",
              "    .dataframe thead th {\n",
              "        text-align: right;\n",
              "    }\n",
              "</style>\n",
              "<table border=\"1\" class=\"dataframe\">\n",
              "  <thead>\n",
              "    <tr style=\"text-align: right;\">\n",
              "      <th></th>\n",
              "      <th>Feature 1</th>\n",
              "      <th>Feature 2</th>\n",
              "    </tr>\n",
              "  </thead>\n",
              "  <tbody>\n",
              "    <tr>\n",
              "      <th>0</th>\n",
              "      <td>-1.727103</td>\n",
              "      <td>-0.696534</td>\n",
              "    </tr>\n",
              "    <tr>\n",
              "      <th>1</th>\n",
              "      <td>-2.029786</td>\n",
              "      <td>0.707674</td>\n",
              "    </tr>\n",
              "    <tr>\n",
              "      <th>2</th>\n",
              "      <td>-2.350312</td>\n",
              "      <td>-0.612961</td>\n",
              "    </tr>\n",
              "    <tr>\n",
              "      <th>3</th>\n",
              "      <td>-3.323983</td>\n",
              "      <td>1.144404</td>\n",
              "    </tr>\n",
              "    <tr>\n",
              "      <th>4</th>\n",
              "      <td>-1.858536</td>\n",
              "      <td>1.137180</td>\n",
              "    </tr>\n",
              "    <tr>\n",
              "      <th>...</th>\n",
              "      <td>...</td>\n",
              "      <td>...</td>\n",
              "    </tr>\n",
              "    <tr>\n",
              "      <th>995</th>\n",
              "      <td>-1.835148</td>\n",
              "      <td>-1.747240</td>\n",
              "    </tr>\n",
              "    <tr>\n",
              "      <th>996</th>\n",
              "      <td>-0.864304</td>\n",
              "      <td>-1.065907</td>\n",
              "    </tr>\n",
              "    <tr>\n",
              "      <th>997</th>\n",
              "      <td>4.137721</td>\n",
              "      <td>0.883799</td>\n",
              "    </tr>\n",
              "    <tr>\n",
              "      <th>998</th>\n",
              "      <td>1.792926</td>\n",
              "      <td>-1.354510</td>\n",
              "    </tr>\n",
              "    <tr>\n",
              "      <th>999</th>\n",
              "      <td>1.074336</td>\n",
              "      <td>-0.721546</td>\n",
              "    </tr>\n",
              "  </tbody>\n",
              "</table>\n",
              "<p>1000 rows × 2 columns</p>\n",
              "</div>"
            ],
            "text/plain": [
              "     Feature 1  Feature 2\n",
              "0    -1.727103  -0.696534\n",
              "1    -2.029786   0.707674\n",
              "2    -2.350312  -0.612961\n",
              "3    -3.323983   1.144404\n",
              "4    -1.858536   1.137180\n",
              "..         ...        ...\n",
              "995  -1.835148  -1.747240\n",
              "996  -0.864304  -1.065907\n",
              "997   4.137721   0.883799\n",
              "998   1.792926  -1.354510\n",
              "999   1.074336  -0.721546\n",
              "\n",
              "[1000 rows x 2 columns]"
            ]
          },
          "metadata": {},
          "execution_count": 28
        }
      ]
    },
    {
      "cell_type": "markdown",
      "metadata": {
        "id": "fOcD7-tYjVk3"
      },
      "source": [
        "# ***FEITO APENAS NO ULTIMO KMEAN REALIZADO***"
      ]
    },
    {
      "cell_type": "code",
      "metadata": {
        "colab": {
          "base_uri": "https://localhost:8080/",
          "height": 295
        },
        "id": "a35fAZHcfBl_",
        "outputId": "9a10ae6e-394b-470e-cd0c-aa66271594a7"
      },
      "source": [
        "dados2d = np.asarray(dados2d)\n",
        "plt.scatter(dados2d[:,0],dados2d[:,1],c='black',label='dados')\n",
        "plt.xlabel('Feature 1')\n",
        "plt.ylabel('Feature 2')\n",
        "plt.legend()\n",
        "plt.title('Todos os dados em 2D')\n",
        "plt.show()"
      ],
      "execution_count": null,
      "outputs": [
        {
          "output_type": "display_data",
          "data": {
            "image/png": "[encoded data removed]",
            "text/plain": [
              "<Figure size 432x288 with 1 Axes>"
            ]
          },
          "metadata": {
            "needs_background": "light"
          }
        }
      ]
    },
    {
      "cell_type": "code",
      "metadata": {
        "colab": {
          "base_uri": "https://localhost:8080/",
          "height": 297
        },
        "id": "7RX4vYdHgJD8",
        "outputId": "d655bab4-83e2-4345-9406-870e991e50b3"
      },
      "source": [
        "#COLOQUEI APENAS 10 CORES,SE COLOCAR K > 10 DA RUIM\n",
        "color=['yellow','red','blue','green','silver','cyan','magenta','teal','brown','black']\n",
        "j = 0\n",
        "for i in dados2d:\n",
        "  plt.scatter(i[0],i[1],c=color[clusters[j]])\n",
        "  j = j + 1\n",
        "plt.xlabel('Feature 1')\n",
        "plt.ylabel('Feature 2')\n",
        "plt.ylim([-5, 5.5])\n",
        "plt.legend()\n",
        "plt.show()"
      ],
      "execution_count": null,
      "outputs": [
        {
          "output_type": "stream",
          "name": "stderr",
          "text": [
            "No handles with labels found to put in legend.\n"
          ]
        },
        {
          "output_type": "display_data",
          "data": {
            "image/png": "[encoded data removed]",
            "text/plain": [
              "<Figure size 432x288 with 1 Axes>"
            ]
          },
          "metadata": {
            "needs_background": "light"
          }
        }
      ]
    }
  ]
}