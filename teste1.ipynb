{
  "nbformat": 4,
  "nbformat_minor": 0,
  "metadata": {
    "colab": {
      "name": "teste1.ipynb",
      "provenance": [],
      "collapsed_sections": []
    },
    "kernelspec": {
      "name": "python3",
      "display_name": "Python 3"
    },
    "accelerator": "GPU"
  },
  "cells": [
    {
      "cell_type": "code",
      "metadata": {
        "id": "ANYr3xqTpjqj"
      },
      "source": [
        "import warnings\n",
        "warnings.filterwarnings('ignore')\n",
        "import keras\n",
        "from keras.datasets import mnist\n",
        "(x_treino,y_treino),(x_teste,y_teste) = mnist.load_data()"
      ],
      "execution_count": null,
      "outputs": []
    },
    {
      "cell_type": "code",
      "metadata": {
        "id": "WWUIM3ARp0wE"
      },
      "source": [
        "from keras.utils import np_utils\n",
        "y_treino_convertido = np_utils.to_categorical(y_treino)\n",
        "y_teste_convertido = np_utils.to_categorical(y_teste)\n",
        "\n",
        "from keras.models import Sequential\n",
        "from keras.layers import Dense,Activation,Dropout\n",
        "from keras import regularizers\n",
        "\n",
        "x_treino_remodelado = x_treino.reshape((60000,784))\n",
        "x_teste_remodelado = x_teste.reshape((10000,784))\n",
        "\n",
        "x_treino_normalizado = x_treino_remodelado.astype('float32')/255\n",
        "x_teste_normalizado = x_teste_remodelado.astype('float32')/255"
      ],
      "execution_count": null,
      "outputs": []
    },
    {
      "cell_type": "code",
      "metadata": {
        "id": "zPCVB8AwqPkv"
      },
      "source": [
        "modelo = Sequential()\n",
        "modelo.add(Dense(30,input_dim=784,kernel_initializer='normal',activation='relu', kernel_regularizer=regularizers.l2(0.01)))\n",
        "modelo.add(Dropout(0.2))\n",
        "modelo.add(Dense(30,kernel_initializer='normal',activation='relu'))\n",
        "modelo.add(Dropout(0.2))\n",
        "modelo.add(Dense(10,kernel_initializer='normal',activation='softmax'))\n",
        "\n",
        "from keras.optimizers import Nadam\n",
        "otimizador = Nadam()\n",
        "\n",
        "modelo.compile(loss='categorical_crossentropy',optimizer=otimizador,metrics=['acc'])"
      ],
      "execution_count": null,
      "outputs": []
    },
    {
      "cell_type": "code",
      "metadata": {
        "colab": {
          "base_uri": "https://localhost:8080/"
        },
        "id": "I5f2RDNaq6_w",
        "outputId": "653f2214-4472-4b3d-e175-adb5a67ef5d1"
      },
      "source": [
        "historico = modelo.fit(x_treino_normalizado,y_treino_convertido,epochs=10,batch_size=200,validation_data=(x_teste_normalizado,y_teste_convertido),verbose=1)"
      ],
      "execution_count": null,
      "outputs": [
        {
          "output_type": "stream",
          "text": [
            "Epoch 1/10\n",
            "300/300 [==============================] - 2s 3ms/step - loss: 1.8783 - acc: 0.4686 - val_loss: 0.6337 - val_acc: 0.8665\n",
            "Epoch 2/10\n",
            "300/300 [==============================] - 1s 3ms/step - loss: 0.7615 - acc: 0.8104 - val_loss: 0.4793 - val_acc: 0.8988\n",
            "Epoch 3/10\n",
            "300/300 [==============================] - 1s 3ms/step - loss: 0.6090 - acc: 0.8552 - val_loss: 0.4088 - val_acc: 0.9121\n",
            "Epoch 4/10\n",
            "300/300 [==============================] - 1s 3ms/step - loss: 0.5446 - acc: 0.8679 - val_loss: 0.3546 - val_acc: 0.9244\n",
            "Epoch 5/10\n",
            "300/300 [==============================] - 1s 3ms/step - loss: 0.4927 - acc: 0.8817 - val_loss: 0.3229 - val_acc: 0.9294\n",
            "Epoch 6/10\n",
            "300/300 [==============================] - 1s 3ms/step - loss: 0.4586 - acc: 0.8864 - val_loss: 0.2955 - val_acc: 0.9356\n",
            "Epoch 7/10\n",
            "300/300 [==============================] - 1s 3ms/step - loss: 0.4290 - acc: 0.8953 - val_loss: 0.2868 - val_acc: 0.9379\n",
            "Epoch 8/10\n",
            "300/300 [==============================] - 1s 3ms/step - loss: 0.4151 - acc: 0.9006 - val_loss: 0.2667 - val_acc: 0.9426\n",
            "Epoch 9/10\n",
            "300/300 [==============================] - 1s 3ms/step - loss: 0.4062 - acc: 0.9017 - val_loss: 0.2544 - val_acc: 0.9467\n",
            "Epoch 10/10\n",
            "300/300 [==============================] - 1s 3ms/step - loss: 0.3876 - acc: 0.9064 - val_loss: 0.2594 - val_acc: 0.9442\n"
          ],
          "name": "stdout"
        }
      ]
    }
  ]
}