{
  "nbformat": 4,
  "nbformat_minor": 0,
  "metadata": {
    "colab": {
      "name": "treino1.ipynb",
      "provenance": [],
      "collapsed_sections": []
    },
    "kernelspec": {
      "name": "python3",
      "display_name": "Python 3"
    },
    "accelerator": "GPU"
  },
  "cells": [
    {
      "cell_type": "code",
      "metadata": {
        "id": "b6mx8KoVo3i6",
        "colab": {
          "base_uri": "https://localhost:8080/"
        },
        "outputId": "e6b08b02-77e0-4977-e960-1193a11c636c"
      },
      "source": [
        "import warnings\n",
        "warnings.filterwarnings('ignore')\n",
        "import keras\n",
        "from keras.datasets import mnist\n",
        "(x_treino,y_treino),(x_teste,y_teste) = mnist.load_data()"
      ],
      "execution_count": null,
      "outputs": [
        {
          "output_type": "stream",
          "text": [
            "Downloading data from https://storage.googleapis.com/tensorflow/tf-keras-datasets/mnist.npz\n",
            "11493376/11490434 [==============================] - 0s 0us/step\n"
          ],
          "name": "stdout"
        }
      ]
    },
    {
      "cell_type": "code",
      "metadata": {
        "colab": {
          "base_uri": "https://localhost:8080/"
        },
        "id": "4uVSMKW43b6D",
        "outputId": "ce6e1b81-e3d3-42fe-d255-d2522eb36b8f"
      },
      "source": [
        "y_treino"
      ],
      "execution_count": null,
      "outputs": [
        {
          "output_type": "execute_result",
          "data": {
            "text/plain": [
              "array([5, 0, 4, ..., 5, 6, 8], dtype=uint8)"
            ]
          },
          "metadata": {
            "tags": []
          },
          "execution_count": 20
        }
      ]
    },
    {
      "cell_type": "code",
      "metadata": {
        "colab": {
          "base_uri": "https://localhost:8080/"
        },
        "id": "GHuoSDKq3wQs",
        "outputId": "777b86d9-5857-4750-e639-ceb359e0bf43"
      },
      "source": [
        "y.head()"
      ],
      "execution_count": null,
      "outputs": [
        {
          "output_type": "execute_result",
          "data": {
            "text/plain": [
              "0    0\n",
              "1    0\n",
              "2    0\n",
              "3    0\n",
              "4    0\n",
              "dtype: int64"
            ]
          },
          "metadata": {
            "tags": []
          },
          "execution_count": 7
        }
      ]
    },
    {
      "cell_type": "code",
      "metadata": {
        "id": "bYs011xo3yCO"
      },
      "source": [
        "from keras.utils import np_utils\n",
        "y_treino_convertido = np_utils.to_categorical(y_treino)\n",
        "y_teste_convertido = np_utils.to_categorical(y_teste)"
      ],
      "execution_count": null,
      "outputs": []
    },
    {
      "cell_type": "code",
      "metadata": {
        "colab": {
          "base_uri": "https://localhost:8080/"
        },
        "id": "VahvjGR74XWj",
        "outputId": "8ffbfcab-5b65-4e5b-fa67-8f72872ab273"
      },
      "source": [
        "y_treino_convertido"
      ],
      "execution_count": null,
      "outputs": [
        {
          "output_type": "execute_result",
          "data": {
            "text/plain": [
              "array([[0.00, 0.00, 0.00, ..., 0.00, 0.00, 0.00],\n",
              "       [1.00, 0.00, 0.00, ..., 0.00, 0.00, 0.00],\n",
              "       [0.00, 0.00, 0.00, ..., 0.00, 0.00, 0.00],\n",
              "       ...,\n",
              "       [0.00, 0.00, 0.00, ..., 0.00, 0.00, 0.00],\n",
              "       [0.00, 0.00, 0.00, ..., 0.00, 0.00, 0.00],\n",
              "       [0.00, 0.00, 0.00, ..., 0.00, 1.00, 0.00]], dtype=float32)"
            ]
          },
          "metadata": {
            "tags": []
          },
          "execution_count": 22
        }
      ]
    },
    {
      "cell_type": "code",
      "metadata": {
        "colab": {
          "base_uri": "https://localhost:8080/",
          "height": 283
        },
        "id": "0ZCkGCkIC4KM",
        "outputId": "cafc286b-f88b-4d25-d8a1-3a86651346bb"
      },
      "source": [
        "import matplotlib.pyplot as plt\n",
        "plt.imshow(x_treino[0],cmap='gray')"
      ],
      "execution_count": null,
      "outputs": [
        {
          "output_type": "execute_result",
          "data": {
            "text/plain": [
              "<matplotlib.image.AxesImage at 0x7fddcb077400>"
            ]
          },
          "metadata": {
            "tags": []
          },
          "execution_count": 3
        },
        {
          "output_type": "display_data",
          "data": {
            "image/png": "[encoded data removed]",
            "text/plain": [
              "<Figure size 432x288 with 1 Axes>"
            ]
          },
          "metadata": {
            "tags": [],
            "needs_background": "light"
          }
        }
      ]
    },
    {
      "cell_type": "code",
      "metadata": {
        "id": "-bDmEG0U57yT"
      },
      "source": [
        "from keras.models import Sequential\n",
        "from keras.layers import Dense,Activation\n",
        "from keras.optimizers import SGD"
      ],
      "execution_count": null,
      "outputs": []
    },
    {
      "cell_type": "code",
      "metadata": {
        "id": "bOxiDVP9ElyC"
      },
      "source": [
        "x_treino_remodelado = x_treino.reshape((60000,784))\n",
        "x_teste_remodelado = x_teste.reshape((10000,784))"
      ],
      "execution_count": null,
      "outputs": []
    },
    {
      "cell_type": "code",
      "metadata": {
        "id": "a3rBd3eGE53U"
      },
      "source": [
        "x_treino_normalizado = x_treino_remodelado.astype('float32')/255\n",
        "x_teste_normalizado = x_teste_remodelado.astype('float32')/255"
      ],
      "execution_count": null,
      "outputs": []
    },
    {
      "cell_type": "code",
      "metadata": {
        "colab": {
          "base_uri": "https://localhost:8080/"
        },
        "id": "25DhnT2aFXwo",
        "outputId": "c1e36b8d-61f5-40b4-cb7d-e8e2c81ee098"
      },
      "source": [
        "x_treino_normalizado[0]"
      ],
      "execution_count": null,
      "outputs": [
        {
          "output_type": "execute_result",
          "data": {
            "text/plain": [
              "array([0.00, 0.00, 0.00, 0.00, 0.00, 0.00, 0.00, 0.00, 0.00, 0.00, 0.00,\n",
              "       0.00, 0.00, 0.00, 0.00, 0.00, 0.00, 0.00, 0.00, 0.00, 0.00, 0.00,\n",
              "       0.00, 0.00, 0.00, 0.00, 0.00, 0.00, 0.00, 0.00, 0.00, 0.00, 0.00,\n",
              "       0.00, 0.00, 0.00, 0.00, 0.00, 0.00, 0.00, 0.00, 0.00, 0.00, 0.00,\n",
              "       0.00, 0.00, 0.00, 0.00, 0.00, 0.00, 0.00, 0.00, 0.00, 0.00, 0.00,\n",
              "       0.00, 0.00, 0.00, 0.00, 0.00, 0.00, 0.00, 0.00, 0.00, 0.00, 0.00,\n",
              "       0.00, 0.00, 0.00, 0.00, 0.00, 0.00, 0.00, 0.00, 0.00, 0.00, 0.00,\n",
              "       0.00, 0.00, 0.00, 0.00, 0.00, 0.00, 0.00, 0.00, 0.00, 0.00, 0.00,\n",
              "       0.00, 0.00, 0.00, 0.00, 0.00, 0.00, 0.00, 0.00, 0.00, 0.00, 0.00,\n",
              "       0.00, 0.00, 0.00, 0.00, 0.00, 0.00, 0.00, 0.00, 0.00, 0.00, 0.00,\n",
              "       0.00, 0.00, 0.00, 0.00, 0.00, 0.00, 0.00, 0.00, 0.00, 0.00, 0.00,\n",
              "       0.00, 0.00, 0.00, 0.00, 0.00, 0.00, 0.00, 0.00, 0.00, 0.00, 0.00,\n",
              "       0.00, 0.00, 0.00, 0.00, 0.00, 0.00, 0.00, 0.00, 0.00, 0.00, 0.00,\n",
              "       0.00, 0.00, 0.00, 0.00, 0.00, 0.00, 0.00, 0.00, 0.00, 0.01, 0.07,\n",
              "       0.07, 0.07, 0.49, 0.53, 0.69, 0.10, 0.65, 1.00, 0.97, 0.50, 0.00,\n",
              "       0.00, 0.00, 0.00, 0.00, 0.00, 0.00, 0.00, 0.00, 0.00, 0.00, 0.00,\n",
              "       0.12, 0.14, 0.37, 0.60, 0.67, 0.99, 0.99, 0.99, 0.99, 0.99, 0.88,\n",
              "       0.67, 0.99, 0.95, 0.76, 0.25, 0.00, 0.00, 0.00, 0.00, 0.00, 0.00,\n",
              "       0.00, 0.00, 0.00, 0.00, 0.00, 0.19, 0.93, 0.99, 0.99, 0.99, 0.99,\n",
              "       0.99, 0.99, 0.99, 0.99, 0.98, 0.36, 0.32, 0.32, 0.22, 0.15, 0.00,\n",
              "       0.00, 0.00, 0.00, 0.00, 0.00, 0.00, 0.00, 0.00, 0.00, 0.00, 0.00,\n",
              "       0.07, 0.86, 0.99, 0.99, 0.99, 0.99, 0.99, 0.78, 0.71, 0.97, 0.95,\n",
              "       0.00, 0.00, 0.00, 0.00, 0.00, 0.00, 0.00, 0.00, 0.00, 0.00, 0.00,\n",
              "       0.00, 0.00, 0.00, 0.00, 0.00, 0.00, 0.00, 0.31, 0.61, 0.42, 0.99,\n",
              "       0.99, 0.80, 0.04, 0.00, 0.17, 0.60, 0.00, 0.00, 0.00, 0.00, 0.00,\n",
              "       0.00, 0.00, 0.00, 0.00, 0.00, 0.00, 0.00, 0.00, 0.00, 0.00, 0.00,\n",
              "       0.00, 0.00, 0.00, 0.05, 0.00, 0.60, 0.99, 0.35, 0.00, 0.00, 0.00,\n",
              "       0.00, 0.00, 0.00, 0.00, 0.00, 0.00, 0.00, 0.00, 0.00, 0.00, 0.00,\n",
              "       0.00, 0.00, 0.00, 0.00, 0.00, 0.00, 0.00, 0.00, 0.00, 0.00, 0.00,\n",
              "       0.55, 0.99, 0.75, 0.01, 0.00, 0.00, 0.00, 0.00, 0.00, 0.00, 0.00,\n",
              "       0.00, 0.00, 0.00, 0.00, 0.00, 0.00, 0.00, 0.00, 0.00, 0.00, 0.00,\n",
              "       0.00, 0.00, 0.00, 0.00, 0.00, 0.00, 0.04, 0.75, 0.99, 0.27, 0.00,\n",
              "       0.00, 0.00, 0.00, 0.00, 0.00, 0.00, 0.00, 0.00, 0.00, 0.00, 0.00,\n",
              "       0.00, 0.00, 0.00, 0.00, 0.00, 0.00, 0.00, 0.00, 0.00, 0.00, 0.00,\n",
              "       0.00, 0.00, 0.14, 0.95, 0.88, 0.63, 0.42, 0.00, 0.00, 0.00, 0.00,\n",
              "       0.00, 0.00, 0.00, 0.00, 0.00, 0.00, 0.00, 0.00, 0.00, 0.00, 0.00,\n",
              "       0.00, 0.00, 0.00, 0.00, 0.00, 0.00, 0.00, 0.00, 0.00, 0.32, 0.94,\n",
              "       0.99, 0.99, 0.47, 0.10, 0.00, 0.00, 0.00, 0.00, 0.00, 0.00, 0.00,\n",
              "       0.00, 0.00, 0.00, 0.00, 0.00, 0.00, 0.00, 0.00, 0.00, 0.00, 0.00,\n",
              "       0.00, 0.00, 0.00, 0.00, 0.00, 0.18, 0.73, 0.99, 0.99, 0.59, 0.11,\n",
              "       0.00, 0.00, 0.00, 0.00, 0.00, 0.00, 0.00, 0.00, 0.00, 0.00, 0.00,\n",
              "       0.00, 0.00, 0.00, 0.00, 0.00, 0.00, 0.00, 0.00, 0.00, 0.00, 0.00,\n",
              "       0.00, 0.06, 0.36, 0.99, 0.99, 0.73, 0.00, 0.00, 0.00, 0.00, 0.00,\n",
              "       0.00, 0.00, 0.00, 0.00, 0.00, 0.00, 0.00, 0.00, 0.00, 0.00, 0.00,\n",
              "       0.00, 0.00, 0.00, 0.00, 0.00, 0.00, 0.00, 0.00, 0.00, 0.98, 0.99,\n",
              "       0.98, 0.25, 0.00, 0.00, 0.00, 0.00, 0.00, 0.00, 0.00, 0.00, 0.00,\n",
              "       0.00, 0.00, 0.00, 0.00, 0.00, 0.00, 0.00, 0.00, 0.00, 0.00, 0.00,\n",
              "       0.00, 0.18, 0.51, 0.72, 0.99, 0.99, 0.81, 0.01, 0.00, 0.00, 0.00,\n",
              "       0.00, 0.00, 0.00, 0.00, 0.00, 0.00, 0.00, 0.00, 0.00, 0.00, 0.00,\n",
              "       0.00, 0.00, 0.00, 0.00, 0.00, 0.15, 0.58, 0.90, 0.99, 0.99, 0.99,\n",
              "       0.98, 0.71, 0.00, 0.00, 0.00, 0.00, 0.00, 0.00, 0.00, 0.00, 0.00,\n",
              "       0.00, 0.00, 0.00, 0.00, 0.00, 0.00, 0.00, 0.00, 0.00, 0.09, 0.45,\n",
              "       0.87, 0.99, 0.99, 0.99, 0.99, 0.79, 0.31, 0.00, 0.00, 0.00, 0.00,\n",
              "       0.00, 0.00, 0.00, 0.00, 0.00, 0.00, 0.00, 0.00, 0.00, 0.00, 0.00,\n",
              "       0.00, 0.00, 0.09, 0.26, 0.84, 0.99, 0.99, 0.99, 0.99, 0.78, 0.32,\n",
              "       0.01, 0.00, 0.00, 0.00, 0.00, 0.00, 0.00, 0.00, 0.00, 0.00, 0.00,\n",
              "       0.00, 0.00, 0.00, 0.00, 0.00, 0.00, 0.07, 0.67, 0.86, 0.99, 0.99,\n",
              "       0.99, 0.99, 0.76, 0.31, 0.04, 0.00, 0.00, 0.00, 0.00, 0.00, 0.00,\n",
              "       0.00, 0.00, 0.00, 0.00, 0.00, 0.00, 0.00, 0.00, 0.00, 0.00, 0.22,\n",
              "       0.67, 0.89, 0.99, 0.99, 0.99, 0.99, 0.96, 0.52, 0.04, 0.00, 0.00,\n",
              "       0.00, 0.00, 0.00, 0.00, 0.00, 0.00, 0.00, 0.00, 0.00, 0.00, 0.00,\n",
              "       0.00, 0.00, 0.00, 0.00, 0.00, 0.53, 0.99, 0.99, 0.99, 0.83, 0.53,\n",
              "       0.52, 0.06, 0.00, 0.00, 0.00, 0.00, 0.00, 0.00, 0.00, 0.00, 0.00,\n",
              "       0.00, 0.00, 0.00, 0.00, 0.00, 0.00, 0.00, 0.00, 0.00, 0.00, 0.00,\n",
              "       0.00, 0.00, 0.00, 0.00, 0.00, 0.00, 0.00, 0.00, 0.00, 0.00, 0.00,\n",
              "       0.00, 0.00, 0.00, 0.00, 0.00, 0.00, 0.00, 0.00, 0.00, 0.00, 0.00,\n",
              "       0.00, 0.00, 0.00, 0.00, 0.00, 0.00, 0.00, 0.00, 0.00, 0.00, 0.00,\n",
              "       0.00, 0.00, 0.00, 0.00, 0.00, 0.00, 0.00, 0.00, 0.00, 0.00, 0.00,\n",
              "       0.00, 0.00, 0.00, 0.00, 0.00, 0.00, 0.00, 0.00, 0.00, 0.00, 0.00,\n",
              "       0.00, 0.00, 0.00, 0.00, 0.00, 0.00, 0.00, 0.00, 0.00, 0.00, 0.00,\n",
              "       0.00, 0.00, 0.00, 0.00, 0.00, 0.00, 0.00, 0.00, 0.00, 0.00, 0.00,\n",
              "       0.00, 0.00, 0.00], dtype=float32)"
            ]
          },
          "metadata": {
            "tags": []
          },
          "execution_count": 29
        }
      ]
    },
    {
      "cell_type": "code",
      "metadata": {
        "id": "vfZ2Cseo6M_9"
      },
      "source": [
        "modelo = Sequential()\n",
        "modelo.add(Dense(30,input_dim=784,kernel_initializer='normal',activation='relu'))\n",
        "modelo.add(Dense(30,kernel_initializer='normal',activation='relu'))\n",
        "modelo.add(Dense(10,kernel_initializer='normal',activation='softmax'))"
      ],
      "execution_count": null,
      "outputs": []
    },
    {
      "cell_type": "code",
      "metadata": {
        "id": "Ad7nxlNL62aY"
      },
      "source": [
        "otimizador = keras.optimizers.SGD()"
      ],
      "execution_count": null,
      "outputs": []
    },
    {
      "cell_type": "code",
      "metadata": {
        "id": "CYN1YUaR7l2w"
      },
      "source": [
        "modelo.compile(loss='categorical_crossentropy',optimizer=otimizador,metrics=['acc'])"
      ],
      "execution_count": null,
      "outputs": []
    },
    {
      "cell_type": "code",
      "metadata": {
        "colab": {
          "base_uri": "https://localhost:8080/"
        },
        "id": "FF0LFuhIH1-L",
        "outputId": "588349c3-d511-4a2b-c172-05fda173f244"
      },
      "source": [
        "historico = modelo.fit(x_treino_normalizado,y_treino_convertido,epochs=10,batch_size=100,validation_data=(x_teste_normalizado,y_teste_convertido),verbose=1)"
      ],
      "execution_count": null,
      "outputs": [
        {
          "output_type": "stream",
          "text": [
            "Epoch 1/10\n",
            "600/600 [==============================] - 2s 2ms/step - loss: 2.3002 - acc: 0.1347 - val_loss: 2.2810 - val_acc: 0.2730\n",
            "Epoch 2/10\n",
            "600/600 [==============================] - 1s 2ms/step - loss: 2.2518 - acc: 0.3231 - val_loss: 1.9506 - val_acc: 0.3989\n",
            "Epoch 3/10\n",
            "600/600 [==============================] - 1s 2ms/step - loss: 1.6956 - acc: 0.4784 - val_loss: 0.9880 - val_acc: 0.7370\n",
            "Epoch 4/10\n",
            "600/600 [==============================] - 1s 2ms/step - loss: 0.8586 - acc: 0.7634 - val_loss: 0.6030 - val_acc: 0.8213\n",
            "Epoch 5/10\n",
            "600/600 [==============================] - 1s 2ms/step - loss: 0.5901 - acc: 0.8213 - val_loss: 0.5110 - val_acc: 0.8454\n",
            "Epoch 6/10\n",
            "600/600 [==============================] - 1s 2ms/step - loss: 0.5106 - acc: 0.8504 - val_loss: 0.4609 - val_acc: 0.8641\n",
            "Epoch 7/10\n",
            "600/600 [==============================] - 1s 2ms/step - loss: 0.4639 - acc: 0.8676 - val_loss: 0.4259 - val_acc: 0.8751\n",
            "Epoch 8/10\n",
            "600/600 [==============================] - 1s 2ms/step - loss: 0.4304 - acc: 0.8800 - val_loss: 0.3994 - val_acc: 0.8848\n",
            "Epoch 9/10\n",
            "600/600 [==============================] - 1s 2ms/step - loss: 0.4093 - acc: 0.8868 - val_loss: 0.3797 - val_acc: 0.8913\n",
            "Epoch 10/10\n",
            "600/600 [==============================] - 1s 2ms/step - loss: 0.3754 - acc: 0.8948 - val_loss: 0.3630 - val_acc: 0.8964\n"
          ],
          "name": "stdout"
        }
      ]
    }
  ]
}